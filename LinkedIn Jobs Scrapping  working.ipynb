{
 "cells": [
  {
   "cell_type": "code",
   "execution_count": 1,
   "id": "b957616e",
   "metadata": {},
   "outputs": [],
   "source": [
    "import pandas as pd \n",
    "import re \n",
    "from selenium import webdriver \n",
    "import selenium.webdriver.common.keys \n",
    "from selenium.webdriver.common.by import By\n",
    "import html5lib\n",
    "import numpy as np "
   ]
  },
  {
   "cell_type": "code",
   "execution_count": 2,
   "id": "a1bd43cf",
   "metadata": {},
   "outputs": [
    {
     "name": "stderr",
     "output_type": "stream",
     "text": [
      "C:\\Users\\ADMINI~1\\AppData\\Local\\Temp/ipykernel_21452/4233002437.py:1: DeprecationWarning: executable_path has been deprecated, please pass in a Service object\n",
      "  browser = webdriver.Chrome(\"chromedriver.exe\")\n"
     ]
    }
   ],
   "source": [
    "browser = webdriver.Chrome(\"chromedriver.exe\")\n",
    "browser.get(\"https://www.linkedin.com\")"
   ]
  },
  {
   "cell_type": "code",
   "execution_count": 3,
   "id": "5c106caf",
   "metadata": {},
   "outputs": [],
   "source": [
    "username = browser.find_element(by='id',value=\"session_key\")\n",
    "username.send_keys(\"abhishekdesai.ele18@gmail.com\")\n",
    "password = browser.find_element(by='id',value=\"session_password\")\n",
    "password.send_keys(\"\")"
   ]
  },
  {
   "cell_type": "code",
   "execution_count": 4,
   "id": "4644daa1",
   "metadata": {},
   "outputs": [],
   "source": [
    "login_button = browser.find_element(By.CLASS_NAME,value=\"sign-in-form__submit-button\")\n",
    "login_button.click()"
   ]
  },
  {
   "cell_type": "code",
   "execution_count": 5,
   "id": "0df8e0c9",
   "metadata": {},
   "outputs": [
    {
     "data": {
      "text/plain": [
       "selenium.webdriver.remote.webelement.WebElement"
      ]
     },
     "execution_count": 5,
     "metadata": {},
     "output_type": "execute_result"
    }
   ],
   "source": [
    "type(login_button)"
   ]
  },
  {
   "cell_type": "code",
   "execution_count": 6,
   "id": "7f0b91bf",
   "metadata": {},
   "outputs": [],
   "source": [
    "browser.get(\"https://www.linkedin.com/jobs/collections\")"
   ]
  },
  {
   "cell_type": "code",
   "execution_count": 56,
   "id": "ec33b7cf",
   "metadata": {},
   "outputs": [
    {
     "name": "stdout",
     "output_type": "stream",
     "text": [
      "['Retention Marketing Manager', 'IFS - Marketing Services- Performance Communications-Data Engineer - M1', 'Deloitte India (Offices of the US) - Consulting - SAP PP', 'Operations Associate', 'New Associate-Inside Sales', 'BA - Analytics-ANA005657', 'Consulting Analyst - General Business', 'Document Specialist', 'Assistant Manager Ops (Pharma Forecasting)', \"Asst. Manager - Founder's Office\", 'Regional Marketing Program Manager', 'Marketing Automation Analyst', 'Campaign Consultant', 'Technical Marketing Engineer', 'Application specialist-India', 'Associate - Technology Consulting', 'Social Media Marketing part time job/internship at Mumbai in PeepingMoon', 'Asst. Manager/ Dy. Manager - Financial Planning & Analyst', 'Area Manager']\n",
      "\n",
      "19\n"
     ]
    }
   ],
   "source": [
    "designation = browser.find_elements(By.CLASS_NAME,value='job-card-list__title')\n",
    "a=[]\n",
    "for i in designation:\n",
    "    a.append(i.text)\n",
    "print(a)\n",
    "print()\n",
    "print(len(a))"
   ]
  },
  {
   "cell_type": "code",
   "execution_count": 57,
   "id": "de3483f4",
   "metadata": {},
   "outputs": [
    {
     "name": "stdout",
     "output_type": "stream",
     "text": [
      "['Kondapur, Telangana, India', 'On-site', 'Bengaluru, Karnataka, India', 'On-site', 'Chennai, Tamil Nadu, India', 'On-site', 'Vadodara, Gujarat, India', 'On-site', 'Gurgaon, Haryana, India', 'On-site', 'Bengaluru, Karnataka, India', 'On-site', 'Mumbai, Maharashtra, India', 'On-site', 'Kochi, Kerala, India', 'Bengaluru, Karnataka, India', 'On-site', 'Bengaluru, Karnataka, India', 'Hybrid', 'Bangalore Urban, Karnataka, India', 'On-site', 'Hyderabad, Telangana, India', 'Hyderabad, Telangana, India', 'On-site', 'Chennai, Tamil Nadu, India', 'On-site', 'Hyderabad, Telangana, India', 'Hybrid', 'Kolkata, West Bengal, India', 'On-site', 'Mumbai, Maharashtra, India', 'On-site', 'Banjara Hills, Telangana, India', 'On-site', 'Kolhapur, Maharashtra, India', 'On-site']\n",
      "\n",
      "36\n"
     ]
    }
   ],
   "source": [
    "location = browser.find_elements(By.CLASS_NAME,value=\"job-card-container__metadata-item\")\n",
    "b=[]\n",
    "for i in location:\n",
    "    b.append(i.text)\n",
    "    \n",
    "print(b)\n",
    "print()\n",
    "print(len(b))"
   ]
  },
  {
   "cell_type": "code",
   "execution_count": 58,
   "id": "a0f96668",
   "metadata": {},
   "outputs": [
    {
     "name": "stdout",
     "output_type": "stream",
     "text": [
      "['Kondapur, Telangana, India', 'Bengaluru, Karnataka, India', 'Chennai, Tamil Nadu, India', 'Vadodara, Gujarat, India', 'Gurgaon, Haryana, India', 'Bengaluru, Karnataka, India', 'Mumbai, Maharashtra, India', 'Kochi, Kerala, India', 'Bengaluru, Karnataka, India', 'Bengaluru, Karnataka, India', 'Bangalore Urban, Karnataka, India', 'Hyderabad, Telangana, India', 'Hyderabad, Telangana, India', 'Chennai, Tamil Nadu, India', 'Hyderabad, Telangana, India', 'Kolkata, West Bengal, India', 'Mumbai, Maharashtra, India', 'Banjara Hills, Telangana, India', 'Kolhapur, Maharashtra, India']\n",
      "\n",
      "19\n"
     ]
    }
   ],
   "source": [
    "c=[]\n",
    "for i in b:\n",
    "    if i!='On-site' and i!='Remote' and i!='Hybrid':\n",
    "        c.append(i)\n",
    "    else:\n",
    "        pass\n",
    "print(c)\n",
    "print()\n",
    "print(len(c))"
   ]
  },
  {
   "cell_type": "code",
   "execution_count": 59,
   "id": "a04caa8f",
   "metadata": {},
   "outputs": [
    {
     "name": "stdout",
     "output_type": "stream",
     "text": [
      "['Nobero', 'PwC', 'Deloitte', 'Wolters Kluwer', 'Accenture in India', 'Genpact', \"Lloyd's Register\", 'EY', 'WNS', 'Thence: Digital Product Design & Engineering', 'Armstrong Fluid Technology', 'CyberArk', 'Inclusive Minds', 'Pyrotech Electronics Unit 2 Udaipur', 'Snibe', 'PwC India', 'PeepingMoon', 'NSL Group', 'AB InBev']\n",
      "\n",
      "19\n"
     ]
    }
   ],
   "source": [
    "company = browser.find_elements(By.CLASS_NAME,value=\"job-card-container__company-name\")\n",
    "d=[]\n",
    "for i in company:\n",
    "    d.append(i.text)\n",
    "    \n",
    "print(d)\n",
    "print()\n",
    "print(len(d))"
   ]
  },
  {
   "cell_type": "code",
   "execution_count": 60,
   "id": "f9e32ca2",
   "metadata": {},
   "outputs": [],
   "source": [
    "# c1 = browser.find_element(By.XPATH,'//*[@id=\"ember26\"]/div[2]/div[1]/div[1]/div[2]/div/div/div[1]')\n",
    "# c1.click()\n",
    "# for i in range(c1):\n",
    "#     industry = browser.find_elements(By.CLASS_NAME,value=\"org-top-card-summary-info-list__info-item\")\n",
    "#     q=[]\n",
    "#     for j in industry:\n",
    "#         q.append(j.text)\n",
    "\n",
    "# print(q)\n",
    "    \n",
    "    "
   ]
  },
  {
   "cell_type": "code",
   "execution_count": 61,
   "id": "a7fbb8b8",
   "metadata": {},
   "outputs": [],
   "source": [
    "# type(c1)"
   ]
  },
  {
   "cell_type": "code",
   "execution_count": 62,
   "id": "3ae79650",
   "metadata": {},
   "outputs": [
    {
     "name": "stdout",
     "output_type": "stream",
     "text": [
      "['Full-time']\n",
      "\n",
      "1\n"
     ]
    }
   ],
   "source": [
    "involvement = browser.find_elements(By.XPATH,'//*[@id=\"main\"]/div/section[2]/div/div[2]/div[1]/div/div[1]/div/div[1]/div[1]/div[2]/ul/li[1]/span')\n",
    "e=[]\n",
    "for i in involvement:\n",
    "    e.append(i.text)\n",
    "\n",
    "print(e)\n",
    "print()\n",
    "print(len(e))"
   ]
  },
  {
   "cell_type": "code",
   "execution_count": 63,
   "id": "667e8ae5",
   "metadata": {},
   "outputs": [
    {
     "name": "stdout",
     "output_type": "stream",
     "text": [
      "['22 applicants']\n",
      "\n",
      "1\n"
     ]
    }
   ],
   "source": [
    "no_applicant = browser.find_elements(By.CLASS_NAME,value=\"jobs-unified-top-card__applicant-count\")\n",
    "f=[]\n",
    "for i in no_applicant:\n",
    "    f.append(i.text)\n",
    "    \n",
    "print(f)\n",
    "print()\n",
    "print(len(f))                        "
   ]
  },
  {
   "cell_type": "code",
   "execution_count": 64,
   "id": "61e15691",
   "metadata": {},
   "outputs": [],
   "source": [
    "# from bs4 import BeautifulSoup\n",
    "# import requests\n",
    "# response=requests.get(\"https://www.linkedin.com/jobs/collections\")\n",
    "# soup=BeautifulSoup(response.content)\n",
    "# spans=soup.find_all(By.XPATH,'//*[@id=\"main\"]/div/section[2]/div/div[2]/div[1]/div/div[1]/div/div[1]/div[1]/div[2]/ul/li[1]/span')\n",
    "# for span in spans:\n",
    "#   print(span.text)"
   ]
  },
  {
   "cell_type": "code",
   "execution_count": 65,
   "id": "662dbc67",
   "metadata": {},
   "outputs": [],
   "source": [
    "df = pd.DataFrame({\"comapanyname\":d , \"designation\":a , \"location\":c})"
   ]
  },
  {
   "cell_type": "code",
   "execution_count": 66,
   "id": "4678fda4",
   "metadata": {},
   "outputs": [
    {
     "data": {
      "text/html": [
       "<div>\n",
       "<style scoped>\n",
       "    .dataframe tbody tr th:only-of-type {\n",
       "        vertical-align: middle;\n",
       "    }\n",
       "\n",
       "    .dataframe tbody tr th {\n",
       "        vertical-align: top;\n",
       "    }\n",
       "\n",
       "    .dataframe thead th {\n",
       "        text-align: right;\n",
       "    }\n",
       "</style>\n",
       "<table border=\"1\" class=\"dataframe\">\n",
       "  <thead>\n",
       "    <tr style=\"text-align: right;\">\n",
       "      <th></th>\n",
       "      <th>comapanyname</th>\n",
       "      <th>designation</th>\n",
       "      <th>location</th>\n",
       "    </tr>\n",
       "  </thead>\n",
       "  <tbody>\n",
       "    <tr>\n",
       "      <th>0</th>\n",
       "      <td>Nobero</td>\n",
       "      <td>Retention Marketing Manager</td>\n",
       "      <td>Kondapur, Telangana, India</td>\n",
       "    </tr>\n",
       "    <tr>\n",
       "      <th>1</th>\n",
       "      <td>PwC</td>\n",
       "      <td>IFS - Marketing Services- Performance Communic...</td>\n",
       "      <td>Bengaluru, Karnataka, India</td>\n",
       "    </tr>\n",
       "    <tr>\n",
       "      <th>2</th>\n",
       "      <td>Deloitte</td>\n",
       "      <td>Deloitte India (Offices of the US) - Consultin...</td>\n",
       "      <td>Chennai, Tamil Nadu, India</td>\n",
       "    </tr>\n",
       "    <tr>\n",
       "      <th>3</th>\n",
       "      <td>Wolters Kluwer</td>\n",
       "      <td>Operations Associate</td>\n",
       "      <td>Vadodara, Gujarat, India</td>\n",
       "    </tr>\n",
       "    <tr>\n",
       "      <th>4</th>\n",
       "      <td>Accenture in India</td>\n",
       "      <td>New Associate-Inside Sales</td>\n",
       "      <td>Gurgaon, Haryana, India</td>\n",
       "    </tr>\n",
       "    <tr>\n",
       "      <th>5</th>\n",
       "      <td>Genpact</td>\n",
       "      <td>BA - Analytics-ANA005657</td>\n",
       "      <td>Bengaluru, Karnataka, India</td>\n",
       "    </tr>\n",
       "    <tr>\n",
       "      <th>6</th>\n",
       "      <td>Lloyd's Register</td>\n",
       "      <td>Consulting Analyst - General Business</td>\n",
       "      <td>Mumbai, Maharashtra, India</td>\n",
       "    </tr>\n",
       "    <tr>\n",
       "      <th>7</th>\n",
       "      <td>EY</td>\n",
       "      <td>Document Specialist</td>\n",
       "      <td>Kochi, Kerala, India</td>\n",
       "    </tr>\n",
       "    <tr>\n",
       "      <th>8</th>\n",
       "      <td>WNS</td>\n",
       "      <td>Assistant Manager Ops (Pharma Forecasting)</td>\n",
       "      <td>Bengaluru, Karnataka, India</td>\n",
       "    </tr>\n",
       "    <tr>\n",
       "      <th>9</th>\n",
       "      <td>Thence: Digital Product Design &amp; Engineering</td>\n",
       "      <td>Asst. Manager - Founder's Office</td>\n",
       "      <td>Bengaluru, Karnataka, India</td>\n",
       "    </tr>\n",
       "    <tr>\n",
       "      <th>10</th>\n",
       "      <td>Armstrong Fluid Technology</td>\n",
       "      <td>Regional Marketing Program Manager</td>\n",
       "      <td>Bangalore Urban, Karnataka, India</td>\n",
       "    </tr>\n",
       "    <tr>\n",
       "      <th>11</th>\n",
       "      <td>CyberArk</td>\n",
       "      <td>Marketing Automation Analyst</td>\n",
       "      <td>Hyderabad, Telangana, India</td>\n",
       "    </tr>\n",
       "    <tr>\n",
       "      <th>12</th>\n",
       "      <td>Inclusive Minds</td>\n",
       "      <td>Campaign Consultant</td>\n",
       "      <td>Hyderabad, Telangana, India</td>\n",
       "    </tr>\n",
       "    <tr>\n",
       "      <th>13</th>\n",
       "      <td>Pyrotech Electronics Unit 2 Udaipur</td>\n",
       "      <td>Technical Marketing Engineer</td>\n",
       "      <td>Chennai, Tamil Nadu, India</td>\n",
       "    </tr>\n",
       "    <tr>\n",
       "      <th>14</th>\n",
       "      <td>Snibe</td>\n",
       "      <td>Application specialist-India</td>\n",
       "      <td>Hyderabad, Telangana, India</td>\n",
       "    </tr>\n",
       "    <tr>\n",
       "      <th>15</th>\n",
       "      <td>PwC India</td>\n",
       "      <td>Associate - Technology Consulting</td>\n",
       "      <td>Kolkata, West Bengal, India</td>\n",
       "    </tr>\n",
       "    <tr>\n",
       "      <th>16</th>\n",
       "      <td>PeepingMoon</td>\n",
       "      <td>Social Media Marketing part time job/internshi...</td>\n",
       "      <td>Mumbai, Maharashtra, India</td>\n",
       "    </tr>\n",
       "    <tr>\n",
       "      <th>17</th>\n",
       "      <td>NSL Group</td>\n",
       "      <td>Asst. Manager/ Dy. Manager - Financial Plannin...</td>\n",
       "      <td>Banjara Hills, Telangana, India</td>\n",
       "    </tr>\n",
       "    <tr>\n",
       "      <th>18</th>\n",
       "      <td>AB InBev</td>\n",
       "      <td>Area Manager</td>\n",
       "      <td>Kolhapur, Maharashtra, India</td>\n",
       "    </tr>\n",
       "  </tbody>\n",
       "</table>\n",
       "</div>"
      ],
      "text/plain": [
       "                                    comapanyname  \\\n",
       "0                                         Nobero   \n",
       "1                                            PwC   \n",
       "2                                       Deloitte   \n",
       "3                                 Wolters Kluwer   \n",
       "4                             Accenture in India   \n",
       "5                                        Genpact   \n",
       "6                               Lloyd's Register   \n",
       "7                                             EY   \n",
       "8                                            WNS   \n",
       "9   Thence: Digital Product Design & Engineering   \n",
       "10                    Armstrong Fluid Technology   \n",
       "11                                      CyberArk   \n",
       "12                               Inclusive Minds   \n",
       "13           Pyrotech Electronics Unit 2 Udaipur   \n",
       "14                                         Snibe   \n",
       "15                                     PwC India   \n",
       "16                                   PeepingMoon   \n",
       "17                                     NSL Group   \n",
       "18                                      AB InBev   \n",
       "\n",
       "                                          designation  \\\n",
       "0                         Retention Marketing Manager   \n",
       "1   IFS - Marketing Services- Performance Communic...   \n",
       "2   Deloitte India (Offices of the US) - Consultin...   \n",
       "3                                Operations Associate   \n",
       "4                          New Associate-Inside Sales   \n",
       "5                            BA - Analytics-ANA005657   \n",
       "6               Consulting Analyst - General Business   \n",
       "7                                 Document Specialist   \n",
       "8          Assistant Manager Ops (Pharma Forecasting)   \n",
       "9                    Asst. Manager - Founder's Office   \n",
       "10                 Regional Marketing Program Manager   \n",
       "11                       Marketing Automation Analyst   \n",
       "12                                Campaign Consultant   \n",
       "13                       Technical Marketing Engineer   \n",
       "14                       Application specialist-India   \n",
       "15                  Associate - Technology Consulting   \n",
       "16  Social Media Marketing part time job/internshi...   \n",
       "17  Asst. Manager/ Dy. Manager - Financial Plannin...   \n",
       "18                                       Area Manager   \n",
       "\n",
       "                             location  \n",
       "0          Kondapur, Telangana, India  \n",
       "1         Bengaluru, Karnataka, India  \n",
       "2          Chennai, Tamil Nadu, India  \n",
       "3            Vadodara, Gujarat, India  \n",
       "4             Gurgaon, Haryana, India  \n",
       "5         Bengaluru, Karnataka, India  \n",
       "6          Mumbai, Maharashtra, India  \n",
       "7                Kochi, Kerala, India  \n",
       "8         Bengaluru, Karnataka, India  \n",
       "9         Bengaluru, Karnataka, India  \n",
       "10  Bangalore Urban, Karnataka, India  \n",
       "11        Hyderabad, Telangana, India  \n",
       "12        Hyderabad, Telangana, India  \n",
       "13         Chennai, Tamil Nadu, India  \n",
       "14        Hyderabad, Telangana, India  \n",
       "15        Kolkata, West Bengal, India  \n",
       "16         Mumbai, Maharashtra, India  \n",
       "17    Banjara Hills, Telangana, India  \n",
       "18       Kolhapur, Maharashtra, India  "
      ]
     },
     "execution_count": 66,
     "metadata": {},
     "output_type": "execute_result"
    }
   ],
   "source": [
    "df"
   ]
  },
  {
   "cell_type": "code",
   "execution_count": 67,
   "id": "64ec0970",
   "metadata": {},
   "outputs": [],
   "source": [
    "df.to_csv(\"d16.csv\")"
   ]
  },
  {
   "cell_type": "code",
   "execution_count": 3,
   "id": "7bd01347",
   "metadata": {},
   "outputs": [
    {
     "name": "stdout",
     "output_type": "stream",
     "text": [
      "[5939, 75848, 89287, 103445, 107609, 52901, 39961, 128294, 124945, 6336, 125311, 104697, 82397, 74414, 130483, 54525, 77420, 139801, 124500, 101080, 148028, 113958, 45031, 62384, 84994, 121728, 37137, 91540, 28163, 60722, 118580, 17220, 41534, 149972, 50870, 69293, 129277, 78008, 62647, 54641, 24134, 64809, 87841, 88742, 48944, 62290, 84678, 23623, 9067, 54496, 120569, 41587, 120003, 39059, 54958, 140636, 134490, 118036, 43051, 123143, 145435, 48680, 22030, 22995, 57830, 105192, 29591, 58442, 109018, 140848, 78932, 13646, 138077, 93075, 63950, 16180, 92104, 40736, 28995, 19418, 53988, 57457, 31386, 149435, 103568, 108107, 132589, 133349, 28697, 47023, 38990, 22582, 68123, 127451, 101780, 6570, 64014, 31682, 127805, 46479, 45336, 7494, 6030, 47332, 130208, 85050, 111894, 29875, 64340, 96342, 149277, 94751, 19624, 117573, 47642, 71248, 107775, 67195, 138823, 122221, 108319, 8476, 67679, 26591, 33528, 118076, 86354, 138314, 124281, 109793, 67398, 6399, 88008, 88783, 48325, 56049, 17075, 141977, 30531, 141129, 28614, 10668, 64994, 138827, 81536, 86202, 54123, 26067, 130151, 47938, 79214, 55646, 144265, 4472, 145875, 38012, 132898, 69109, 44776, 99866, 18754, 79964, 86845, 65914, 49262, 65921, 99646, 45523, 77788, 39384, 106535, 149457, 71736, 129483, 130790, 114858, 140673, 117347, 25088, 26367, 76084, 146452, 123889, 103802, 87533, 146312, 85118, 55927, 66429, 119978, 20456, 102864, 94343, 5852, 28779, 142318, 78164, 69066, 118877, 27414, 96907, 22308, 83452, 68651, 6910, 93967, 80677, 80757, 113541, 73289, 81144, 83841, 41661, 30471, 142466, 83092, 108999, 147648, 71262, 101431, 110508, 22101, 93143, 100017, 80203, 17433, 102084, 31451, 11039, 50811, 124591, 112362, 88478, 58727, 98936, 35991, 47214, 31061, 18425, 33532, 118812, 86415, 100313, 100751, 83034, 87942, 118506, 101693, 143338, 117638, 66717, 30012, 131035, 61870, 146023, 6069, 135510, 123941, 132281, 99555, 120348, 120090, 94983, 5057, 10094, 115901, 118891, 149676, 101861, 100491, 65741, 82907, 142829, 71984, 12801, 27377, 80315, 24701, 37387, 48263, 31533, 70152, 128577, 89738, 129566, 94022, 140467, 141569, 105406, 4347, 61608, 19693, 47625, 58958, 135237, 95799, 12653, 136829, 58574, 8090, 120323, 17963, 38050, 92678, 2740, 42697, 100753, 52701, 5921, 85950, 98911, 113099, 91338, 78036, 144208, 109886, 126557, 126375, 27747, 43504, 12612, 74875, 65170, 142760, 145816, 142508, 107746, 50473, 135424, 127269, 53098, 43060, 71762, 146411, 82214, 23260, 42425, 59046, 88485, 80384, 64575, 28351, 106205, 3188, 73502, 52851, 19385, 80321, 57108, 112579, 140059, 44267, 28250, 148284]\n"
     ]
    }
   ],
   "source": [
    "No_of_followers = []\n",
    "import random \n",
    "No_of_followers = random.sample(range(1000,150000),354)\n",
    "print(No_of_followers)"
   ]
  },
  {
   "cell_type": "code",
   "execution_count": 5,
   "id": "91cdf4ff",
   "metadata": {},
   "outputs": [
    {
     "name": "stdout",
     "output_type": "stream",
     "text": [
      "[2659, 678, 4671, 4005, 4016, 980, 3085, 4518, 2856, 222, 1253, 4106, 1701, 2463, 1876, 4309, 3484, 1235, 1113, 2952, 1978, 4327, 4071, 4450, 4676, 807, 144, 4162, 503, 3165, 4174, 2260, 2186, 4827, 1080, 2139, 720, 2683, 1671, 4336, 601, 4356, 743, 3204, 4780, 3350, 4889, 2138, 1776, 1550, 251, 2667, 4458, 2578, 834, 3830, 4404, 1370, 1587, 3409, 1486, 4042, 1839, 78, 1686, 4370, 2295, 104, 401, 3486, 1233, 4127, 4951, 987, 1829, 3302, 1984, 1395, 985, 2187, 3430, 4430, 1778, 2235, 994, 4659, 2222, 2408, 4089, 3683, 2654, 2313, 4688, 882, 1755, 3073, 382, 70, 4836, 1913, 395, 2228, 855, 4508, 1450, 1987, 3473, 3879, 1985, 3136, 4893, 1651, 2635, 902, 2253, 4564, 1731, 2177, 754, 3684, 4792, 1399, 3761, 271, 4953, 3206, 4244, 4410, 2755, 1815, 4454, 2617, 4614, 2696, 3984, 2511, 3915, 3312, 3271, 4132, 2971, 4040, 3824, 4035, 4771, 1789, 1236, 1090, 3831, 3989, 151, 480, 4369, 1966, 2432, 273, 262, 644, 522, 883, 1753, 3184, 4758, 2022, 3666, 4752, 4729, 3024, 2086, 4646, 4346, 709, 1274, 2776, 3257, 631, 4633, 3432, 3526, 231, 2013, 2047, 3524, 759, 1097, 2586, 197, 3041, 2146, 1542, 2742, 3243, 1777, 528, 4310, 4266, 4645, 1246, 4180, 4422, 291, 1845, 3674, 459, 969, 911, 2720, 583, 250, 1168, 4182, 2140, 1165, 3149, 3153, 4917, 3734, 1885, 1835, 426, 3765, 4900, 2366, 4574, 3929, 4754, 956, 1826, 2676, 2824, 4785, 3564, 2325, 1900, 2944, 4767, 1228, 3040, 1068, 4474, 2624, 2898, 4668, 2203, 2407, 3539, 3812, 1574, 1608, 4710, 3311, 4390, 4188, 4728, 4960, 4271, 4808, 3003, 4599, 3087, 3491, 625, 3870, 1226, 3081, 4214, 590, 423, 3986, 760, 2422, 3749, 2788, 952, 3233, 1582, 4136, 1795, 3403, 4475, 1324, 479, 3237, 4929, 3043, 549, 2094, 4739, 3923, 1091, 2889, 1391, 849, 576, 1277, 4804, 1979, 4393, 2249, 2315, 2255, 1950, 1800, 107, 1151, 2854, 414, 993, 194, 1986, 3737, 2103, 695, 1296, 3451, 1247, 1207, 4723, 2062, 3264, 2993, 3842, 4158, 1177, 1206, 1884, 1727, 1500, 2327, 3501, 341, 4004, 279, 2638, 3955, 3189, 4237, 2504, 4992, 2087, 90, 3634, 555, 2744, 793, 3569, 4463, 4842, 296, 1563, 3994, 4274, 4329, 4735]\n"
     ]
    }
   ],
   "source": [
    "No_of_emp = []\n",
    "import random \n",
    "No_of_emp = random.sample(range(50,5000),354)\n",
    "print(No_of_emp)"
   ]
  },
  {
   "cell_type": "code",
   "execution_count": 8,
   "id": "d9977147",
   "metadata": {},
   "outputs": [
    {
     "data": {
      "text/html": [
       "<div>\n",
       "<style scoped>\n",
       "    .dataframe tbody tr th:only-of-type {\n",
       "        vertical-align: middle;\n",
       "    }\n",
       "\n",
       "    .dataframe tbody tr th {\n",
       "        vertical-align: top;\n",
       "    }\n",
       "\n",
       "    .dataframe thead th {\n",
       "        text-align: right;\n",
       "    }\n",
       "</style>\n",
       "<table border=\"1\" class=\"dataframe\">\n",
       "  <thead>\n",
       "    <tr style=\"text-align: right;\">\n",
       "      <th></th>\n",
       "      <th>No_of_emp</th>\n",
       "    </tr>\n",
       "  </thead>\n",
       "  <tbody>\n",
       "    <tr>\n",
       "      <th>0</th>\n",
       "      <td>2659</td>\n",
       "    </tr>\n",
       "    <tr>\n",
       "      <th>1</th>\n",
       "      <td>678</td>\n",
       "    </tr>\n",
       "    <tr>\n",
       "      <th>2</th>\n",
       "      <td>4671</td>\n",
       "    </tr>\n",
       "    <tr>\n",
       "      <th>3</th>\n",
       "      <td>4005</td>\n",
       "    </tr>\n",
       "    <tr>\n",
       "      <th>4</th>\n",
       "      <td>4016</td>\n",
       "    </tr>\n",
       "    <tr>\n",
       "      <th>...</th>\n",
       "      <td>...</td>\n",
       "    </tr>\n",
       "    <tr>\n",
       "      <th>349</th>\n",
       "      <td>1563</td>\n",
       "    </tr>\n",
       "    <tr>\n",
       "      <th>350</th>\n",
       "      <td>3994</td>\n",
       "    </tr>\n",
       "    <tr>\n",
       "      <th>351</th>\n",
       "      <td>4274</td>\n",
       "    </tr>\n",
       "    <tr>\n",
       "      <th>352</th>\n",
       "      <td>4329</td>\n",
       "    </tr>\n",
       "    <tr>\n",
       "      <th>353</th>\n",
       "      <td>4735</td>\n",
       "    </tr>\n",
       "  </tbody>\n",
       "</table>\n",
       "<p>354 rows × 1 columns</p>\n",
       "</div>"
      ],
      "text/plain": [
       "     No_of_emp\n",
       "0         2659\n",
       "1          678\n",
       "2         4671\n",
       "3         4005\n",
       "4         4016\n",
       "..         ...\n",
       "349       1563\n",
       "350       3994\n",
       "351       4274\n",
       "352       4329\n",
       "353       4735\n",
       "\n",
       "[354 rows x 1 columns]"
      ]
     },
     "execution_count": 8,
     "metadata": {},
     "output_type": "execute_result"
    }
   ],
   "source": [
    "df1= pd.DataFrame(No_of_emp,columns=['No_of_emp'])\n",
    "df1"
   ]
  },
  {
   "cell_type": "code",
   "execution_count": 9,
   "id": "cc8c0fe6",
   "metadata": {},
   "outputs": [
    {
     "data": {
      "text/html": [
       "<div>\n",
       "<style scoped>\n",
       "    .dataframe tbody tr th:only-of-type {\n",
       "        vertical-align: middle;\n",
       "    }\n",
       "\n",
       "    .dataframe tbody tr th {\n",
       "        vertical-align: top;\n",
       "    }\n",
       "\n",
       "    .dataframe thead th {\n",
       "        text-align: right;\n",
       "    }\n",
       "</style>\n",
       "<table border=\"1\" class=\"dataframe\">\n",
       "  <thead>\n",
       "    <tr style=\"text-align: right;\">\n",
       "      <th></th>\n",
       "      <th>No_of_followers</th>\n",
       "    </tr>\n",
       "  </thead>\n",
       "  <tbody>\n",
       "    <tr>\n",
       "      <th>0</th>\n",
       "      <td>5939</td>\n",
       "    </tr>\n",
       "    <tr>\n",
       "      <th>1</th>\n",
       "      <td>75848</td>\n",
       "    </tr>\n",
       "    <tr>\n",
       "      <th>2</th>\n",
       "      <td>89287</td>\n",
       "    </tr>\n",
       "    <tr>\n",
       "      <th>3</th>\n",
       "      <td>103445</td>\n",
       "    </tr>\n",
       "    <tr>\n",
       "      <th>4</th>\n",
       "      <td>107609</td>\n",
       "    </tr>\n",
       "    <tr>\n",
       "      <th>...</th>\n",
       "      <td>...</td>\n",
       "    </tr>\n",
       "    <tr>\n",
       "      <th>349</th>\n",
       "      <td>112579</td>\n",
       "    </tr>\n",
       "    <tr>\n",
       "      <th>350</th>\n",
       "      <td>140059</td>\n",
       "    </tr>\n",
       "    <tr>\n",
       "      <th>351</th>\n",
       "      <td>44267</td>\n",
       "    </tr>\n",
       "    <tr>\n",
       "      <th>352</th>\n",
       "      <td>28250</td>\n",
       "    </tr>\n",
       "    <tr>\n",
       "      <th>353</th>\n",
       "      <td>148284</td>\n",
       "    </tr>\n",
       "  </tbody>\n",
       "</table>\n",
       "<p>354 rows × 1 columns</p>\n",
       "</div>"
      ],
      "text/plain": [
       "     No_of_followers\n",
       "0               5939\n",
       "1              75848\n",
       "2              89287\n",
       "3             103445\n",
       "4             107609\n",
       "..               ...\n",
       "349           112579\n",
       "350           140059\n",
       "351            44267\n",
       "352            28250\n",
       "353           148284\n",
       "\n",
       "[354 rows x 1 columns]"
      ]
     },
     "execution_count": 9,
     "metadata": {},
     "output_type": "execute_result"
    }
   ],
   "source": [
    "df2= pd.DataFrame(No_of_followers,columns=['No_of_followers'])\n",
    "df2"
   ]
  },
  {
   "cell_type": "code",
   "execution_count": 12,
   "id": "e39c4976",
   "metadata": {},
   "outputs": [],
   "source": [
    "f_df = df1.join(df2)"
   ]
  },
  {
   "cell_type": "code",
   "execution_count": 13,
   "id": "1f70777b",
   "metadata": {},
   "outputs": [
    {
     "data": {
      "text/html": [
       "<div>\n",
       "<style scoped>\n",
       "    .dataframe tbody tr th:only-of-type {\n",
       "        vertical-align: middle;\n",
       "    }\n",
       "\n",
       "    .dataframe tbody tr th {\n",
       "        vertical-align: top;\n",
       "    }\n",
       "\n",
       "    .dataframe thead th {\n",
       "        text-align: right;\n",
       "    }\n",
       "</style>\n",
       "<table border=\"1\" class=\"dataframe\">\n",
       "  <thead>\n",
       "    <tr style=\"text-align: right;\">\n",
       "      <th></th>\n",
       "      <th>No_of_emp</th>\n",
       "      <th>No_of_followers</th>\n",
       "    </tr>\n",
       "  </thead>\n",
       "  <tbody>\n",
       "    <tr>\n",
       "      <th>0</th>\n",
       "      <td>2659</td>\n",
       "      <td>5939</td>\n",
       "    </tr>\n",
       "    <tr>\n",
       "      <th>1</th>\n",
       "      <td>678</td>\n",
       "      <td>75848</td>\n",
       "    </tr>\n",
       "    <tr>\n",
       "      <th>2</th>\n",
       "      <td>4671</td>\n",
       "      <td>89287</td>\n",
       "    </tr>\n",
       "    <tr>\n",
       "      <th>3</th>\n",
       "      <td>4005</td>\n",
       "      <td>103445</td>\n",
       "    </tr>\n",
       "    <tr>\n",
       "      <th>4</th>\n",
       "      <td>4016</td>\n",
       "      <td>107609</td>\n",
       "    </tr>\n",
       "    <tr>\n",
       "      <th>...</th>\n",
       "      <td>...</td>\n",
       "      <td>...</td>\n",
       "    </tr>\n",
       "    <tr>\n",
       "      <th>349</th>\n",
       "      <td>1563</td>\n",
       "      <td>112579</td>\n",
       "    </tr>\n",
       "    <tr>\n",
       "      <th>350</th>\n",
       "      <td>3994</td>\n",
       "      <td>140059</td>\n",
       "    </tr>\n",
       "    <tr>\n",
       "      <th>351</th>\n",
       "      <td>4274</td>\n",
       "      <td>44267</td>\n",
       "    </tr>\n",
       "    <tr>\n",
       "      <th>352</th>\n",
       "      <td>4329</td>\n",
       "      <td>28250</td>\n",
       "    </tr>\n",
       "    <tr>\n",
       "      <th>353</th>\n",
       "      <td>4735</td>\n",
       "      <td>148284</td>\n",
       "    </tr>\n",
       "  </tbody>\n",
       "</table>\n",
       "<p>354 rows × 2 columns</p>\n",
       "</div>"
      ],
      "text/plain": [
       "     No_of_emp  No_of_followers\n",
       "0         2659             5939\n",
       "1          678            75848\n",
       "2         4671            89287\n",
       "3         4005           103445\n",
       "4         4016           107609\n",
       "..         ...              ...\n",
       "349       1563           112579\n",
       "350       3994           140059\n",
       "351       4274            44267\n",
       "352       4329            28250\n",
       "353       4735           148284\n",
       "\n",
       "[354 rows x 2 columns]"
      ]
     },
     "execution_count": 13,
     "metadata": {},
     "output_type": "execute_result"
    }
   ],
   "source": [
    "f_df"
   ]
  },
  {
   "cell_type": "code",
   "execution_count": 14,
   "id": "c7731a51",
   "metadata": {},
   "outputs": [],
   "source": [
    "f_df.to_csv(\"com.csv\")"
   ]
  },
  {
   "cell_type": "code",
   "execution_count": null,
   "id": "a6dd56d1",
   "metadata": {},
   "outputs": [],
   "source": []
  }
 ],
 "metadata": {
  "kernelspec": {
   "display_name": "Python 3 (ipykernel)",
   "language": "python",
   "name": "python3"
  },
  "language_info": {
   "codemirror_mode": {
    "name": "ipython",
    "version": 3
   },
   "file_extension": ".py",
   "mimetype": "text/x-python",
   "name": "python",
   "nbconvert_exporter": "python",
   "pygments_lexer": "ipython3",
   "version": "3.9.7"
  }
 },
 "nbformat": 4,
 "nbformat_minor": 5
}
