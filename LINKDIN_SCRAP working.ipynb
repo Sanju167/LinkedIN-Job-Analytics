{
 "cells": [
  {
   "cell_type": "code",
   "execution_count": 9,
   "id": "a9a0010c",
   "metadata": {},
   "outputs": [
    {
     "name": "stdout",
     "output_type": "stream",
     "text": [
      "Requirement already satisfied: selenium in c:\\users\\karti\\anaconda3\\lib\\site-packages (4.7.0)\n",
      "Requirement already satisfied: trio-websocket~=0.9 in c:\\users\\karti\\anaconda3\\lib\\site-packages (from selenium) (0.9.2)\n",
      "Requirement already satisfied: trio~=0.17 in c:\\users\\karti\\anaconda3\\lib\\site-packages (from selenium) (0.22.0)\n",
      "Requirement already satisfied: certifi>=2021.10.8 in c:\\users\\karti\\anaconda3\\lib\\site-packages (from selenium) (2021.10.8)\n",
      "Requirement already satisfied: urllib3[socks]~=1.26 in c:\\users\\karti\\anaconda3\\lib\\site-packages (from selenium) (1.26.9)\n",
      "Requirement already satisfied: sniffio in c:\\users\\karti\\anaconda3\\lib\\site-packages (from trio~=0.17->selenium) (1.2.0)\n",
      "Requirement already satisfied: sortedcontainers in c:\\users\\karti\\anaconda3\\lib\\site-packages (from trio~=0.17->selenium) (2.4.0)\n",
      "Requirement already satisfied: cffi>=1.14 in c:\\users\\karti\\anaconda3\\lib\\site-packages (from trio~=0.17->selenium) (1.15.0)\n",
      "Requirement already satisfied: exceptiongroup>=1.0.0rc9 in c:\\users\\karti\\anaconda3\\lib\\site-packages (from trio~=0.17->selenium) (1.0.4)\n",
      "Requirement already satisfied: async-generator>=1.9 in c:\\users\\karti\\anaconda3\\lib\\site-packages (from trio~=0.17->selenium) (1.10)\n",
      "Requirement already satisfied: outcome in c:\\users\\karti\\anaconda3\\lib\\site-packages (from trio~=0.17->selenium) (1.2.0)\n",
      "Requirement already satisfied: idna in c:\\users\\karti\\anaconda3\\lib\\site-packages (from trio~=0.17->selenium) (3.3)\n",
      "Requirement already satisfied: attrs>=19.2.0 in c:\\users\\karti\\anaconda3\\lib\\site-packages (from trio~=0.17->selenium) (21.4.0)\n",
      "Requirement already satisfied: pycparser in c:\\users\\karti\\anaconda3\\lib\\site-packages (from cffi>=1.14->trio~=0.17->selenium) (2.21)\n",
      "Requirement already satisfied: wsproto>=0.14 in c:\\users\\karti\\anaconda3\\lib\\site-packages (from trio-websocket~=0.9->selenium) (1.2.0)\n",
      "Requirement already satisfied: PySocks!=1.5.7,<2.0,>=1.5.6 in c:\\users\\karti\\anaconda3\\lib\\site-packages (from urllib3[socks]~=1.26->selenium) (1.7.1)\n",
      "Requirement already satisfied: h11<1,>=0.9.0 in c:\\users\\karti\\anaconda3\\lib\\site-packages (from wsproto>=0.14->trio-websocket~=0.9->selenium) (0.14.0)\n",
      "Note: you may need to restart the kernel to use updated packages.\n"
     ]
    }
   ],
   "source": [
    "pip install selenium"
   ]
  },
  {
   "cell_type": "code",
   "execution_count": 8,
   "id": "570c879a",
   "metadata": {},
   "outputs": [],
   "source": [
    "\n",
    "from selenium import webdriver \n",
    "from bs4 import BeautifulSoup\n",
    "import time\n",
    "from selenium.webdriver.common.keys import Keys\n",
    "from selenium.webdriver.chrome.options import Options\n",
    "from selenium.webdriver.support.ui import WebDriverWait\n",
    "from selenium.webdriver.support import expected_conditions as EC\n",
    "from getpass import getpass\n",
    "from selenium.webdriver.common.by import By"
   ]
  },
  {
   "cell_type": "code",
   "execution_count": 27,
   "id": "f4c40901",
   "metadata": {},
   "outputs": [
    {
     "name": "stderr",
     "output_type": "stream",
     "text": [
      "C:\\Users\\karti\\AppData\\Local\\Temp\\ipykernel_17924\\2919374564.py:1: DeprecationWarning: executable_path has been deprecated, please pass in a Service object\n",
      "  driver=webdriver.Chrome(executable_path=\"E:\\\\exe\\\\chromedriver.exe\")\n"
     ]
    },
    {
     "name": "stdout",
     "output_type": "stream",
     "text": [
      "['Talent Acquisition Partner (m/w/d)', 'Human Resources Executive', 'Academic Excellence Manager', 'Talent Acquisition Partner (m/w/d)', 'Talent Acquisition Head', 'US Education Advisor', 'Resource Development Manager']\n",
      "['Johnson Controls', 'Pixar Technology', 'xQ', 'Johnson Controls', 'Catenon India', 'Y-Axis Overseas Careers', 'Hemophilia Federation (India)']\n",
      "['Kalsi, Uttarakhand, India                  On-site', 'Surat, Gujarat, India                  On-site', 'Hyderabad, Telangana, India                  On-site', 'Kalsi, Uttarakhand, India                  On-site', 'Pune, Maharashtra, India                  On-site', 'Hyderabad, Telangana, India                  On-site', 'South West Delhi, Delhi, India']\n"
     ]
    }
   ],
   "source": [
    "driver=webdriver.Chrome(executable_path=\"E:\\\\exe\\\\chromedriver.exe\")\n",
    "driver.get(\"https://linkedin.com/uas/login\")\n",
    "time.sleep(5)\n",
    "email = driver.find_element(\"id\",\"username\")\n",
    "with open(r\"E:\\exe\\username.txt\") as myuser:\n",
    "    username=myuser.read()\n",
    "email.send_keys(username)\n",
    "pword = driver.find_element(\"id\",\"password\")\n",
    "with open(r\"E:\\exe\\pword.txt\") as mypassword:\n",
    "    password=mypassword.read()\n",
    "pword.send_keys(password)\n",
    "driver.find_element(\"xpath\",\"//button[@type='submit']\").click()\n",
    "job_sr=\"https://www.linkedin.com/jobs/search/?currentJobId=3383471220&keywords=jobs\"\n",
    "driver.get(job_sr)\n",
    "\n",
    "src= driver.page_source\n",
    "soup=BeautifulSoup(src,'lxml')\n",
    "intro=soup.find_all('a',{'class':\"job-card-list__title\"})\n",
    "job_titles=[]\n",
    "for title in intro:\n",
    "    job_titles.append(title.text.strip())\n",
    "print(job_titles)\n",
    "company_name_html=soup.find_all('a',{'class':'job-card-container__company-name'})\n",
    "company_name=[]\n",
    "for name in company_name_html:\n",
    "    company_name.append(name.text.strip())\n",
    "print(company_name)\n",
    "import re\n",
    "location_html=soup.find_all('ul',{'class':\"job-card-container__metadata-wrapper\"})\n",
    "location_list=[]\n",
    "for loc in location_html:\n",
    "    res=re.sub(\"\\n\\n+\",'',loc.text.strip())\n",
    "    location_list.append(res)\n",
    "print(location_list)\n",
    "\n",
    "\n"
   ]
  },
  {
   "cell_type": "code",
   "execution_count": 28,
   "id": "4e3867a9",
   "metadata": {},
   "outputs": [
    {
     "name": "stdout",
     "output_type": "stream",
     "text": [
      "['Talent Acquisition Partner (m/w/d)', 'Human Resources Executive', 'Academic Excellence Manager', 'Talent Acquisition Partner (m/w/d)', 'Talent Acquisition Head', 'US Education Advisor', 'Resource Development Manager', 'Talent Acquisition Specialist', 'Business Development Associate', 'Lead - Talent Acquisition', 'HR Assistant (Talent Acquisition Recruiter)', 'Business Development Associate', 'Senior Talent acquisition Partner', 'Associate Talent Acquisition']\n",
      "['Johnson Controls', 'Pixar Technology', 'xQ', 'Johnson Controls', 'Catenon India', 'Y-Axis Overseas Careers', 'Hemophilia Federation (India)', 'Irdeto', 'PlanetSpark', 'actyv.ai®', 'BPM LLP', \"BYJU'S\", 'Dyson', 'Emerson']\n",
      "['Kalsi, Uttarakhand, India                  On-site', 'Surat, Gujarat, India                  On-site', 'Hyderabad, Telangana, India                  On-site', 'Kalsi, Uttarakhand, India                  On-site', 'Pune, Maharashtra, India                  On-site', 'Hyderabad, Telangana, India                  On-site', 'South West Delhi, Delhi, India', 'Delhi, Delhi, India                  Hybrid', 'Gurugram, Haryana, India                  On-site', 'Bengaluru, Karnataka, India                  On-site', 'Bangalore Urban, Karnataka, India                  Hybrid', 'Greater Bengaluru Area                  On-site', 'Bangalore Rural, Karnataka, India                  On-site', 'Pune, Maharashtra, India                  On-site']\n"
     ]
    }
   ],
   "source": [
    "job_sr=\"https://www.linkedin.com/jobs/search/?currentJobId=3370996088&keywords=jobs&start=25\"\n",
    "driver.get(job_sr)\n",
    "\n",
    "src= driver.page_source\n",
    "soup=BeautifulSoup(src,'lxml')\n",
    "intro=soup.find_all('a',{'class':\"job-card-list__title\"})\n",
    "for title in intro:\n",
    "    job_titles.append(title.text.strip())\n",
    "print(job_titles)\n",
    "company_name_html=soup.find_all('a',{'class':'job-card-container__company-name'})\n",
    "\n",
    "for name in company_name_html:\n",
    "    company_name.append(name.text.strip())\n",
    "print(company_name)\n",
    "import re\n",
    "location_html=soup.find_all('ul',{'class':\"job-card-container__metadata-wrapper\"})\n",
    "\n",
    "for loc in location_html:\n",
    "    res=re.sub(\"\\n\\n+\",'',loc.text.strip())\n",
    "    location_list.append(res)\n",
    "print(location_list)"
   ]
  },
  {
   "cell_type": "code",
   "execution_count": 29,
   "id": "a968770a",
   "metadata": {},
   "outputs": [
    {
     "name": "stdout",
     "output_type": "stream",
     "text": [
      "['Talent Acquisition Partner (m/w/d)', 'Human Resources Executive', 'Academic Excellence Manager', 'Talent Acquisition Partner (m/w/d)', 'Talent Acquisition Head', 'US Education Advisor', 'Resource Development Manager', 'Talent Acquisition Specialist', 'Business Development Associate', 'Lead - Talent Acquisition', 'HR Assistant (Talent Acquisition Recruiter)', 'Business Development Associate', 'Senior Talent acquisition Partner', 'Associate Talent Acquisition', 'Deputy Manager Talent Acquisition', 'Talent Acquisition Specialist', 'UI Engineer Fresher', 'Business Development Associate', 'Business Development Associate - US Sales', 'Talent Acquisition Specialist', 'Sr. Talent Acquisition Advisor']\n",
      "['Johnson Controls', 'Pixar Technology', 'xQ', 'Johnson Controls', 'Catenon India', 'Y-Axis Overseas Careers', 'Hemophilia Federation (India)', 'Irdeto', 'PlanetSpark', 'actyv.ai®', 'BPM LLP', \"BYJU'S\", 'Dyson', 'Emerson', 'Aster DM Healthcare', 'Rocketlane', 'Jet Airways', 'PlanetSpark', 'Scaler', 'Technovert', 'OpenText']\n",
      "['Kalsi, Uttarakhand, India                  On-site', 'Surat, Gujarat, India                  On-site', 'Hyderabad, Telangana, India                  On-site', 'Kalsi, Uttarakhand, India                  On-site', 'Pune, Maharashtra, India                  On-site', 'Hyderabad, Telangana, India                  On-site', 'South West Delhi, Delhi, India', 'Delhi, Delhi, India                  Hybrid', 'Gurugram, Haryana, India                  On-site', 'Bengaluru, Karnataka, India                  On-site', 'Bangalore Urban, Karnataka, India                  Hybrid', 'Greater Bengaluru Area                  On-site', 'Bangalore Rural, Karnataka, India                  On-site', 'Pune, Maharashtra, India                  On-site', 'Bengaluru, Karnataka, India                  On-site', 'Chennai, Tamil Nadu, India                  On-site', 'Vijayawada, Andhra Pradesh, India                  On-site', 'Gurugram, Haryana, India                  On-site', 'Bengaluru, Karnataka, India                  On-site', 'Hyderabad, Telangana, India                  On-site', 'Bengaluru, Karnataka, India                  On-site']\n"
     ]
    }
   ],
   "source": [
    "job_sr=\"https://www.linkedin.com/jobs/search/?currentJobId=3370996088&keywords=jobs&start=50\"\n",
    "driver.get(job_sr)\n",
    "\n",
    "src= driver.page_source\n",
    "soup=BeautifulSoup(src,'lxml')\n",
    "intro=soup.find_all('a',{'class':\"job-card-list__title\"})\n",
    "for title in intro:\n",
    "    job_titles.append(title.text.strip())\n",
    "print(job_titles)\n",
    "company_name_html=soup.find_all('a',{'class':'job-card-container__company-name'})\n",
    "\n",
    "for name in company_name_html:\n",
    "    company_name.append(name.text.strip())\n",
    "print(company_name)\n",
    "import re\n",
    "location_html=soup.find_all('ul',{'class':\"job-card-container__metadata-wrapper\"})\n",
    "\n",
    "for loc in location_html:\n",
    "    res=re.sub(\"\\n\\n+\",'',loc.text.strip())\n",
    "    location_list.append(res)\n",
    "print(location_list)"
   ]
  },
  {
   "cell_type": "code",
   "execution_count": 30,
   "id": "fe19e3f5",
   "metadata": {},
   "outputs": [
    {
     "name": "stdout",
     "output_type": "stream",
     "text": [
      "['Talent Acquisition Partner (m/w/d)', 'Human Resources Executive', 'Academic Excellence Manager', 'Talent Acquisition Partner (m/w/d)', 'Talent Acquisition Head', 'US Education Advisor', 'Resource Development Manager', 'Talent Acquisition Specialist', 'Business Development Associate', 'Lead - Talent Acquisition', 'HR Assistant (Talent Acquisition Recruiter)', 'Business Development Associate', 'Senior Talent acquisition Partner', 'Associate Talent Acquisition', 'Deputy Manager Talent Acquisition', 'Talent Acquisition Specialist', 'UI Engineer Fresher', 'Business Development Associate', 'Business Development Associate - US Sales', 'Talent Acquisition Specialist', 'Sr. Talent Acquisition Advisor', 'Ground Staff', 'Recruiter', 'DGM HR Talent Acquisition cum opreation', 'Executive - Blending', 'Direct Recruiter (Singapore Banking Recruiter)', 'Associate Consultant', 'Manager']\n",
      "['Johnson Controls', 'Pixar Technology', 'xQ', 'Johnson Controls', 'Catenon India', 'Y-Axis Overseas Careers', 'Hemophilia Federation (India)', 'Irdeto', 'PlanetSpark', 'actyv.ai®', 'BPM LLP', \"BYJU'S\", 'Dyson', 'Emerson', 'Aster DM Healthcare', 'Rocketlane', 'Jet Airways', 'PlanetSpark', 'Scaler', 'Technovert', 'OpenText', 'Jet Airways', 'MOKSHA', 'PeoplesHR', 'DIAGEO India', 'Robert Walters', 'LTIMindtree', 'HSBC']\n",
      "['Kalsi, Uttarakhand, India                  On-site', 'Surat, Gujarat, India                  On-site', 'Hyderabad, Telangana, India                  On-site', 'Kalsi, Uttarakhand, India                  On-site', 'Pune, Maharashtra, India                  On-site', 'Hyderabad, Telangana, India                  On-site', 'South West Delhi, Delhi, India', 'Delhi, Delhi, India                  Hybrid', 'Gurugram, Haryana, India                  On-site', 'Bengaluru, Karnataka, India                  On-site', 'Bangalore Urban, Karnataka, India                  Hybrid', 'Greater Bengaluru Area                  On-site', 'Bangalore Rural, Karnataka, India                  On-site', 'Pune, Maharashtra, India                  On-site', 'Bengaluru, Karnataka, India                  On-site', 'Chennai, Tamil Nadu, India                  On-site', 'Vijayawada, Andhra Pradesh, India                  On-site', 'Gurugram, Haryana, India                  On-site', 'Bengaluru, Karnataka, India                  On-site', 'Hyderabad, Telangana, India                  On-site', 'Bengaluru, Karnataka, India                  On-site', 'Vijayawada, Andhra Pradesh, India                  On-site', 'Noida, Uttar Pradesh, India                  On-site', 'Mumbai, Maharashtra, India                  On-site', 'Pauri, Uttarakhand, India                  On-site', 'Chennai, Tamil Nadu, India                  On-site', 'Chennai, Tamil Nadu, India', 'Bengaluru, Karnataka, India                  Hybrid']\n"
     ]
    }
   ],
   "source": [
    "job_sr=\"https://www.linkedin.com/jobs/search/?currentJobId=3370996088&keywords=jobs&start=75\"\n",
    "driver.get(job_sr)\n",
    "\n",
    "src= driver.page_source\n",
    "soup=BeautifulSoup(src,'lxml')\n",
    "intro=soup.find_all('a',{'class':\"job-card-list__title\"})\n",
    "for title in intro:\n",
    "    job_titles.append(title.text.strip())\n",
    "print(job_titles)\n",
    "company_name_html=soup.find_all('a',{'class':'job-card-container__company-name'})\n",
    "\n",
    "for name in company_name_html:\n",
    "    company_name.append(name.text.strip())\n",
    "print(company_name)\n",
    "import re\n",
    "location_html=soup.find_all('ul',{'class':\"job-card-container__metadata-wrapper\"})\n",
    "\n",
    "for loc in location_html:\n",
    "    res=re.sub(\"\\n\\n+\",'',loc.text.strip())\n",
    "    location_list.append(res)\n",
    "print(location_list)"
   ]
  },
  {
   "cell_type": "code",
   "execution_count": 31,
   "id": "d74e0453",
   "metadata": {},
   "outputs": [
    {
     "name": "stdout",
     "output_type": "stream",
     "text": [
      "['Talent Acquisition Partner (m/w/d)', 'Human Resources Executive', 'Academic Excellence Manager', 'Talent Acquisition Partner (m/w/d)', 'Talent Acquisition Head', 'US Education Advisor', 'Resource Development Manager', 'Talent Acquisition Specialist', 'Business Development Associate', 'Lead - Talent Acquisition', 'HR Assistant (Talent Acquisition Recruiter)', 'Business Development Associate', 'Senior Talent acquisition Partner', 'Associate Talent Acquisition', 'Deputy Manager Talent Acquisition', 'Talent Acquisition Specialist', 'UI Engineer Fresher', 'Business Development Associate', 'Business Development Associate - US Sales', 'Talent Acquisition Specialist', 'Sr. Talent Acquisition Advisor', 'Ground Staff', 'Recruiter', 'DGM HR Talent Acquisition cum opreation', 'Executive - Blending', 'Direct Recruiter (Singapore Banking Recruiter)', 'Associate Consultant', 'Manager', 'Talent Acquisition Specialist', 'Senior Associate - Mumbai Shivaji Park - Technology Consulting', 'Content Creator', 'Part Time Income Opportunity - Online', 'Talent Acquisition Manager', 'Assistant Manager - Human Resources (C&B and HR MIS)', 'Site Supervisor']\n",
      "['Johnson Controls', 'Pixar Technology', 'xQ', 'Johnson Controls', 'Catenon India', 'Y-Axis Overseas Careers', 'Hemophilia Federation (India)', 'Irdeto', 'PlanetSpark', 'actyv.ai®', 'BPM LLP', \"BYJU'S\", 'Dyson', 'Emerson', 'Aster DM Healthcare', 'Rocketlane', 'Jet Airways', 'PlanetSpark', 'Scaler', 'Technovert', 'OpenText', 'Jet Airways', 'MOKSHA', 'PeoplesHR', 'DIAGEO India', 'Robert Walters', 'LTIMindtree', 'HSBC', 'SquadStack', 'PwC India', 'Hidesign', 'Vestige Distributor', 'The Polymath School', 'IndiGo (InterGlobe Aviation Ltd)', 'Jet Airways']\n",
      "['Kalsi, Uttarakhand, India                  On-site', 'Surat, Gujarat, India                  On-site', 'Hyderabad, Telangana, India                  On-site', 'Kalsi, Uttarakhand, India                  On-site', 'Pune, Maharashtra, India                  On-site', 'Hyderabad, Telangana, India                  On-site', 'South West Delhi, Delhi, India', 'Delhi, Delhi, India                  Hybrid', 'Gurugram, Haryana, India                  On-site', 'Bengaluru, Karnataka, India                  On-site', 'Bangalore Urban, Karnataka, India                  Hybrid', 'Greater Bengaluru Area                  On-site', 'Bangalore Rural, Karnataka, India                  On-site', 'Pune, Maharashtra, India                  On-site', 'Bengaluru, Karnataka, India                  On-site', 'Chennai, Tamil Nadu, India                  On-site', 'Vijayawada, Andhra Pradesh, India                  On-site', 'Gurugram, Haryana, India                  On-site', 'Bengaluru, Karnataka, India                  On-site', 'Hyderabad, Telangana, India                  On-site', 'Bengaluru, Karnataka, India                  On-site', 'Vijayawada, Andhra Pradesh, India                  On-site', 'Noida, Uttar Pradesh, India                  On-site', 'Mumbai, Maharashtra, India                  On-site', 'Pauri, Uttarakhand, India                  On-site', 'Chennai, Tamil Nadu, India                  On-site', 'Chennai, Tamil Nadu, India', 'Bengaluru, Karnataka, India                  Hybrid', 'Noida, Uttar Pradesh, India                  On-site', 'Mumbai, Maharashtra, India                  On-site', 'Puducherry, Puducherry, India                  On-site', 'Coimbatore, Tamil Nadu, India                  Remote', 'Bhiwandi, Maharashtra, India                  On-site', 'Gurgaon, Haryana, India                  On-site', 'Pune, Maharashtra, India                  On-site']\n"
     ]
    }
   ],
   "source": [
    "job_sr=\"https://www.linkedin.com/jobs/search/?currentJobId=3370996088&keywords=jobs&start=100\"\n",
    "driver.get(job_sr)\n",
    "\n",
    "src= driver.page_source\n",
    "soup=BeautifulSoup(src,'lxml')\n",
    "intro=soup.find_all('a',{'class':\"job-card-list__title\"})\n",
    "for title in intro:\n",
    "    job_titles.append(title.text.strip())\n",
    "print(job_titles)\n",
    "company_name_html=soup.find_all('a',{'class':'job-card-container__company-name'})\n",
    "\n",
    "for name in company_name_html:\n",
    "    company_name.append(name.text.strip())\n",
    "print(company_name)\n",
    "import re\n",
    "location_html=soup.find_all('ul',{'class':\"job-card-container__metadata-wrapper\"})\n",
    "\n",
    "for loc in location_html:\n",
    "    res=re.sub(\"\\n\\n+\",'',loc.text.strip())\n",
    "    location_list.append(res)\n",
    "print(location_list)"
   ]
  },
  {
   "cell_type": "code",
   "execution_count": 32,
   "id": "e7dff13e",
   "metadata": {},
   "outputs": [
    {
     "name": "stdout",
     "output_type": "stream",
     "text": [
      "['Talent Acquisition Partner (m/w/d)', 'Human Resources Executive', 'Academic Excellence Manager', 'Talent Acquisition Partner (m/w/d)', 'Talent Acquisition Head', 'US Education Advisor', 'Resource Development Manager', 'Talent Acquisition Specialist', 'Business Development Associate', 'Lead - Talent Acquisition', 'HR Assistant (Talent Acquisition Recruiter)', 'Business Development Associate', 'Senior Talent acquisition Partner', 'Associate Talent Acquisition', 'Deputy Manager Talent Acquisition', 'Talent Acquisition Specialist', 'UI Engineer Fresher', 'Business Development Associate', 'Business Development Associate - US Sales', 'Talent Acquisition Specialist', 'Sr. Talent Acquisition Advisor', 'Ground Staff', 'Recruiter', 'DGM HR Talent Acquisition cum opreation', 'Executive - Blending', 'Direct Recruiter (Singapore Banking Recruiter)', 'Associate Consultant', 'Manager', 'Talent Acquisition Specialist', 'Senior Associate - Mumbai Shivaji Park - Technology Consulting', 'Content Creator', 'Part Time Income Opportunity - Online', 'Talent Acquisition Manager', 'Assistant Manager - Human Resources (C&B and HR MIS)', 'Site Supervisor', 'Manager', 'Talent Acquisition Executive', 'HIRING FOR BPO - VOICE, CHAT', 'Business Development Associate', 'Talent Acquisition & Employment Specialist', 'Executives', 'HR Recruiter / Sr. Recruiter or HR Consultant']\n",
      "['Johnson Controls', 'Pixar Technology', 'xQ', 'Johnson Controls', 'Catenon India', 'Y-Axis Overseas Careers', 'Hemophilia Federation (India)', 'Irdeto', 'PlanetSpark', 'actyv.ai®', 'BPM LLP', \"BYJU'S\", 'Dyson', 'Emerson', 'Aster DM Healthcare', 'Rocketlane', 'Jet Airways', 'PlanetSpark', 'Scaler', 'Technovert', 'OpenText', 'Jet Airways', 'MOKSHA', 'PeoplesHR', 'DIAGEO India', 'Robert Walters', 'LTIMindtree', 'HSBC', 'SquadStack', 'PwC India', 'Hidesign', 'Vestige Distributor', 'The Polymath School', 'IndiGo (InterGlobe Aviation Ltd)', 'Jet Airways', 'White Force Group', 'Flipspaces', 'Imaginators Try Going Beyond', \"BYJU'S\", 'Cerence Inc.', 'EXL', 'Tusthi Executive Access And Consultants']\n",
      "['Kalsi, Uttarakhand, India                  On-site', 'Surat, Gujarat, India                  On-site', 'Hyderabad, Telangana, India                  On-site', 'Kalsi, Uttarakhand, India                  On-site', 'Pune, Maharashtra, India                  On-site', 'Hyderabad, Telangana, India                  On-site', 'South West Delhi, Delhi, India', 'Delhi, Delhi, India                  Hybrid', 'Gurugram, Haryana, India                  On-site', 'Bengaluru, Karnataka, India                  On-site', 'Bangalore Urban, Karnataka, India                  Hybrid', 'Greater Bengaluru Area                  On-site', 'Bangalore Rural, Karnataka, India                  On-site', 'Pune, Maharashtra, India                  On-site', 'Bengaluru, Karnataka, India                  On-site', 'Chennai, Tamil Nadu, India                  On-site', 'Vijayawada, Andhra Pradesh, India                  On-site', 'Gurugram, Haryana, India                  On-site', 'Bengaluru, Karnataka, India                  On-site', 'Hyderabad, Telangana, India                  On-site', 'Bengaluru, Karnataka, India                  On-site', 'Vijayawada, Andhra Pradesh, India                  On-site', 'Noida, Uttar Pradesh, India                  On-site', 'Mumbai, Maharashtra, India                  On-site', 'Pauri, Uttarakhand, India                  On-site', 'Chennai, Tamil Nadu, India                  On-site', 'Chennai, Tamil Nadu, India', 'Bengaluru, Karnataka, India                  Hybrid', 'Noida, Uttar Pradesh, India                  On-site', 'Mumbai, Maharashtra, India                  On-site', 'Puducherry, Puducherry, India                  On-site', 'Coimbatore, Tamil Nadu, India                  Remote', 'Bhiwandi, Maharashtra, India                  On-site', 'Gurgaon, Haryana, India                  On-site', 'Pune, Maharashtra, India                  On-site', 'Bengaluru, Karnataka, India                  On-site', 'Mumbai, Maharashtra, India                  On-site', 'Noida, Uttar Pradesh, India                  On-site', 'Bengaluru, Karnataka, India                  On-site', 'Pune, Maharashtra, India                  On-site', 'Noida, Uttar Pradesh, India                  On-site', 'Ghaziabad, Uttar Pradesh, India                  On-site']\n"
     ]
    }
   ],
   "source": [
    "job_sr=\"https://www.linkedin.com/jobs/search/?currentJobId=3370996088&keywords=jobs&start=125\"\n",
    "driver.get(job_sr)\n",
    "\n",
    "src= driver.page_source\n",
    "soup=BeautifulSoup(src,'lxml')\n",
    "intro=soup.find_all('a',{'class':\"job-card-list__title\"})\n",
    "for title in intro:\n",
    "    job_titles.append(title.text.strip())\n",
    "print(job_titles)\n",
    "company_name_html=soup.find_all('a',{'class':'job-card-container__company-name'})\n",
    "\n",
    "for name in company_name_html:\n",
    "    company_name.append(name.text.strip())\n",
    "print(company_name)\n",
    "import re\n",
    "location_html=soup.find_all('ul',{'class':\"job-card-container__metadata-wrapper\"})\n",
    "\n",
    "for loc in location_html:\n",
    "    res=re.sub(\"\\n\\n+\",'',loc.text.strip())\n",
    "    location_list.append(res)\n",
    "print(location_list)"
   ]
  },
  {
   "cell_type": "code",
   "execution_count": 33,
   "id": "9404773f",
   "metadata": {},
   "outputs": [
    {
     "name": "stdout",
     "output_type": "stream",
     "text": [
      "['Talent Acquisition Partner (m/w/d)', 'Human Resources Executive', 'Academic Excellence Manager', 'Talent Acquisition Partner (m/w/d)', 'Talent Acquisition Head', 'US Education Advisor', 'Resource Development Manager', 'Talent Acquisition Specialist', 'Business Development Associate', 'Lead - Talent Acquisition', 'HR Assistant (Talent Acquisition Recruiter)', 'Business Development Associate', 'Senior Talent acquisition Partner', 'Associate Talent Acquisition', 'Deputy Manager Talent Acquisition', 'Talent Acquisition Specialist', 'UI Engineer Fresher', 'Business Development Associate', 'Business Development Associate - US Sales', 'Talent Acquisition Specialist', 'Sr. Talent Acquisition Advisor', 'Ground Staff', 'Recruiter', 'DGM HR Talent Acquisition cum opreation', 'Executive - Blending', 'Direct Recruiter (Singapore Banking Recruiter)', 'Associate Consultant', 'Manager', 'Talent Acquisition Specialist', 'Senior Associate - Mumbai Shivaji Park - Technology Consulting', 'Content Creator', 'Part Time Income Opportunity - Online', 'Talent Acquisition Manager', 'Assistant Manager - Human Resources (C&B and HR MIS)', 'Site Supervisor', 'Manager', 'Talent Acquisition Executive', 'HIRING FOR BPO - VOICE, CHAT', 'Business Development Associate', 'Talent Acquisition & Employment Specialist', 'Executives', 'HR Recruiter / Sr. Recruiter or HR Consultant', 'Talent Acquisition Executive', 'Lead Manager, Client Service', 'Cyber Security intern', 'Recruiter', 'Manager', 'Finance Intern', 'Part Time Income-Online']\n",
      "['Johnson Controls', 'Pixar Technology', 'xQ', 'Johnson Controls', 'Catenon India', 'Y-Axis Overseas Careers', 'Hemophilia Federation (India)', 'Irdeto', 'PlanetSpark', 'actyv.ai®', 'BPM LLP', \"BYJU'S\", 'Dyson', 'Emerson', 'Aster DM Healthcare', 'Rocketlane', 'Jet Airways', 'PlanetSpark', 'Scaler', 'Technovert', 'OpenText', 'Jet Airways', 'MOKSHA', 'PeoplesHR', 'DIAGEO India', 'Robert Walters', 'LTIMindtree', 'HSBC', 'SquadStack', 'PwC India', 'Hidesign', 'Vestige Distributor', 'The Polymath School', 'IndiGo (InterGlobe Aviation Ltd)', 'Jet Airways', 'White Force Group', 'Flipspaces', 'Imaginators Try Going Beyond', \"BYJU'S\", 'Cerence Inc.', 'EXL', 'Tusthi Executive Access And Consultants', 'Medvarsity', 'BNY Mellon', 'Corizo', 'Beck & Pollitzer India', 'BNP Paribas', 'Corizo', 'Vestige Distributor']\n",
      "['Kalsi, Uttarakhand, India                  On-site', 'Surat, Gujarat, India                  On-site', 'Hyderabad, Telangana, India                  On-site', 'Kalsi, Uttarakhand, India                  On-site', 'Pune, Maharashtra, India                  On-site', 'Hyderabad, Telangana, India                  On-site', 'South West Delhi, Delhi, India', 'Delhi, Delhi, India                  Hybrid', 'Gurugram, Haryana, India                  On-site', 'Bengaluru, Karnataka, India                  On-site', 'Bangalore Urban, Karnataka, India                  Hybrid', 'Greater Bengaluru Area                  On-site', 'Bangalore Rural, Karnataka, India                  On-site', 'Pune, Maharashtra, India                  On-site', 'Bengaluru, Karnataka, India                  On-site', 'Chennai, Tamil Nadu, India                  On-site', 'Vijayawada, Andhra Pradesh, India                  On-site', 'Gurugram, Haryana, India                  On-site', 'Bengaluru, Karnataka, India                  On-site', 'Hyderabad, Telangana, India                  On-site', 'Bengaluru, Karnataka, India                  On-site', 'Vijayawada, Andhra Pradesh, India                  On-site', 'Noida, Uttar Pradesh, India                  On-site', 'Mumbai, Maharashtra, India                  On-site', 'Pauri, Uttarakhand, India                  On-site', 'Chennai, Tamil Nadu, India                  On-site', 'Chennai, Tamil Nadu, India', 'Bengaluru, Karnataka, India                  Hybrid', 'Noida, Uttar Pradesh, India                  On-site', 'Mumbai, Maharashtra, India                  On-site', 'Puducherry, Puducherry, India                  On-site', 'Coimbatore, Tamil Nadu, India                  Remote', 'Bhiwandi, Maharashtra, India                  On-site', 'Gurgaon, Haryana, India                  On-site', 'Pune, Maharashtra, India                  On-site', 'Bengaluru, Karnataka, India                  On-site', 'Mumbai, Maharashtra, India                  On-site', 'Noida, Uttar Pradesh, India                  On-site', 'Bengaluru, Karnataka, India                  On-site', 'Pune, Maharashtra, India                  On-site', 'Noida, Uttar Pradesh, India                  On-site', 'Ghaziabad, Uttar Pradesh, India                  On-site', 'Hyderabad, Telangana, India                  On-site', 'Pune, Maharashtra, India                  On-site', 'India                  Remote', 'Pune, Maharashtra, India                  On-site', 'Chennai, Tamil Nadu, India                  On-site', 'India                  Remote', 'Chennai, Tamil Nadu, India                  Remote']\n"
     ]
    }
   ],
   "source": [
    "job_sr=\"https://www.linkedin.com/jobs/search/?currentJobId=3370996088&keywords=jobs&start=150\"\n",
    "driver.get(job_sr)\n",
    "\n",
    "src= driver.page_source\n",
    "soup=BeautifulSoup(src,'lxml')\n",
    "intro=soup.find_all('a',{'class':\"job-card-list__title\"})\n",
    "for title in intro:\n",
    "    job_titles.append(title.text.strip())\n",
    "print(job_titles)\n",
    "company_name_html=soup.find_all('a',{'class':'job-card-container__company-name'})\n",
    "\n",
    "for name in company_name_html:\n",
    "    company_name.append(name.text.strip())\n",
    "print(company_name)\n",
    "import re\n",
    "location_html=soup.find_all('ul',{'class':\"job-card-container__metadata-wrapper\"})\n",
    "\n",
    "for loc in location_html:\n",
    "    res=re.sub(\"\\n\\n+\",'',loc.text.strip())\n",
    "    location_list.append(res)\n",
    "print(location_list)"
   ]
  },
  {
   "cell_type": "code",
   "execution_count": 34,
   "id": "f9f62b0b",
   "metadata": {},
   "outputs": [
    {
     "name": "stdout",
     "output_type": "stream",
     "text": [
      "['Talent Acquisition Partner (m/w/d)', 'Human Resources Executive', 'Academic Excellence Manager', 'Talent Acquisition Partner (m/w/d)', 'Talent Acquisition Head', 'US Education Advisor', 'Resource Development Manager', 'Talent Acquisition Specialist', 'Business Development Associate', 'Lead - Talent Acquisition', 'HR Assistant (Talent Acquisition Recruiter)', 'Business Development Associate', 'Senior Talent acquisition Partner', 'Associate Talent Acquisition', 'Deputy Manager Talent Acquisition', 'Talent Acquisition Specialist', 'UI Engineer Fresher', 'Business Development Associate', 'Business Development Associate - US Sales', 'Talent Acquisition Specialist', 'Sr. Talent Acquisition Advisor', 'Ground Staff', 'Recruiter', 'DGM HR Talent Acquisition cum opreation', 'Executive - Blending', 'Direct Recruiter (Singapore Banking Recruiter)', 'Associate Consultant', 'Manager', 'Talent Acquisition Specialist', 'Senior Associate - Mumbai Shivaji Park - Technology Consulting', 'Content Creator', 'Part Time Income Opportunity - Online', 'Talent Acquisition Manager', 'Assistant Manager - Human Resources (C&B and HR MIS)', 'Site Supervisor', 'Manager', 'Talent Acquisition Executive', 'HIRING FOR BPO - VOICE, CHAT', 'Business Development Associate', 'Talent Acquisition & Employment Specialist', 'Executives', 'HR Recruiter / Sr. Recruiter or HR Consultant', 'Talent Acquisition Executive', 'Lead Manager, Client Service', 'Cyber Security intern', 'Recruiter', 'Manager', 'Finance Intern', 'Part Time Income-Online', 'Web Development Intern', 'cyber security Intern', 'Manager- Investor Relations', 'B and F Talent', 'Software Testing & Documentation Internship in Chennai at Clocktos Infotech', 'Business Development Associate', 'Professor/ Associate /Assistant']\n",
      "['Johnson Controls', 'Pixar Technology', 'xQ', 'Johnson Controls', 'Catenon India', 'Y-Axis Overseas Careers', 'Hemophilia Federation (India)', 'Irdeto', 'PlanetSpark', 'actyv.ai®', 'BPM LLP', \"BYJU'S\", 'Dyson', 'Emerson', 'Aster DM Healthcare', 'Rocketlane', 'Jet Airways', 'PlanetSpark', 'Scaler', 'Technovert', 'OpenText', 'Jet Airways', 'MOKSHA', 'PeoplesHR', 'DIAGEO India', 'Robert Walters', 'LTIMindtree', 'HSBC', 'SquadStack', 'PwC India', 'Hidesign', 'Vestige Distributor', 'The Polymath School', 'IndiGo (InterGlobe Aviation Ltd)', 'Jet Airways', 'White Force Group', 'Flipspaces', 'Imaginators Try Going Beyond', \"BYJU'S\", 'Cerence Inc.', 'EXL', 'Tusthi Executive Access And Consultants', 'Medvarsity', 'BNY Mellon', 'Corizo', 'Beck & Pollitzer India', 'BNP Paribas', 'Corizo', 'Vestige Distributor', 'Corizo', 'Corizo', 'IndiGo (InterGlobe Aviation Ltd)', 'Aloft', 'Clocktos Infotech', \"BYJU'S\", 'Pimpri Chinchwad Education Trust']\n",
      "['Kalsi, Uttarakhand, India                  On-site', 'Surat, Gujarat, India                  On-site', 'Hyderabad, Telangana, India                  On-site', 'Kalsi, Uttarakhand, India                  On-site', 'Pune, Maharashtra, India                  On-site', 'Hyderabad, Telangana, India                  On-site', 'South West Delhi, Delhi, India', 'Delhi, Delhi, India                  Hybrid', 'Gurugram, Haryana, India                  On-site', 'Bengaluru, Karnataka, India                  On-site', 'Bangalore Urban, Karnataka, India                  Hybrid', 'Greater Bengaluru Area                  On-site', 'Bangalore Rural, Karnataka, India                  On-site', 'Pune, Maharashtra, India                  On-site', 'Bengaluru, Karnataka, India                  On-site', 'Chennai, Tamil Nadu, India                  On-site', 'Vijayawada, Andhra Pradesh, India                  On-site', 'Gurugram, Haryana, India                  On-site', 'Bengaluru, Karnataka, India                  On-site', 'Hyderabad, Telangana, India                  On-site', 'Bengaluru, Karnataka, India                  On-site', 'Vijayawada, Andhra Pradesh, India                  On-site', 'Noida, Uttar Pradesh, India                  On-site', 'Mumbai, Maharashtra, India                  On-site', 'Pauri, Uttarakhand, India                  On-site', 'Chennai, Tamil Nadu, India                  On-site', 'Chennai, Tamil Nadu, India', 'Bengaluru, Karnataka, India                  Hybrid', 'Noida, Uttar Pradesh, India                  On-site', 'Mumbai, Maharashtra, India                  On-site', 'Puducherry, Puducherry, India                  On-site', 'Coimbatore, Tamil Nadu, India                  Remote', 'Bhiwandi, Maharashtra, India                  On-site', 'Gurgaon, Haryana, India                  On-site', 'Pune, Maharashtra, India                  On-site', 'Bengaluru, Karnataka, India                  On-site', 'Mumbai, Maharashtra, India                  On-site', 'Noida, Uttar Pradesh, India                  On-site', 'Bengaluru, Karnataka, India                  On-site', 'Pune, Maharashtra, India                  On-site', 'Noida, Uttar Pradesh, India                  On-site', 'Ghaziabad, Uttar Pradesh, India                  On-site', 'Hyderabad, Telangana, India                  On-site', 'Pune, Maharashtra, India                  On-site', 'India                  Remote', 'Pune, Maharashtra, India                  On-site', 'Chennai, Tamil Nadu, India                  On-site', 'India                  Remote', 'Chennai, Tamil Nadu, India                  Remote', 'India                  Remote', 'India                  Remote', 'Gurgaon, Haryana, India                  On-site', 'Bengaluru, Karnataka, India                  Hybrid', 'Chennai, Tamil Nadu, India                  On-site', 'India                  Remote', 'Pune/Pimpri-Chinchwad Area                  On-site']\n"
     ]
    }
   ],
   "source": [
    "job_sr=\"https://www.linkedin.com/jobs/search/?currentJobId=3370996088&keywords=jobs&start=175\"\n",
    "driver.get(job_sr)\n",
    "\n",
    "src= driver.page_source\n",
    "soup=BeautifulSoup(src,'lxml')\n",
    "intro=soup.find_all('a',{'class':\"job-card-list__title\"})\n",
    "for title in intro:\n",
    "    job_titles.append(title.text.strip())\n",
    "print(job_titles)\n",
    "company_name_html=soup.find_all('a',{'class':'job-card-container__company-name'})\n",
    "\n",
    "for name in company_name_html:\n",
    "    company_name.append(name.text.strip())\n",
    "print(company_name)\n",
    "import re\n",
    "location_html=soup.find_all('ul',{'class':\"job-card-container__metadata-wrapper\"})\n",
    "\n",
    "for loc in location_html:\n",
    "    res=re.sub(\"\\n\\n+\",'',loc.text.strip())\n",
    "    location_list.append(res)\n",
    "print(location_list)"
   ]
  },
  {
   "cell_type": "code",
   "execution_count": 35,
   "id": "cbfee328",
   "metadata": {},
   "outputs": [
    {
     "name": "stdout",
     "output_type": "stream",
     "text": [
      "['Talent Acquisition Partner (m/w/d)', 'Human Resources Executive', 'Academic Excellence Manager', 'Talent Acquisition Partner (m/w/d)', 'Talent Acquisition Head', 'US Education Advisor', 'Resource Development Manager', 'Talent Acquisition Specialist', 'Business Development Associate', 'Lead - Talent Acquisition', 'HR Assistant (Talent Acquisition Recruiter)', 'Business Development Associate', 'Senior Talent acquisition Partner', 'Associate Talent Acquisition', 'Deputy Manager Talent Acquisition', 'Talent Acquisition Specialist', 'UI Engineer Fresher', 'Business Development Associate', 'Business Development Associate - US Sales', 'Talent Acquisition Specialist', 'Sr. Talent Acquisition Advisor', 'Ground Staff', 'Recruiter', 'DGM HR Talent Acquisition cum opreation', 'Executive - Blending', 'Direct Recruiter (Singapore Banking Recruiter)', 'Associate Consultant', 'Manager', 'Talent Acquisition Specialist', 'Senior Associate - Mumbai Shivaji Park - Technology Consulting', 'Content Creator', 'Part Time Income Opportunity - Online', 'Talent Acquisition Manager', 'Assistant Manager - Human Resources (C&B and HR MIS)', 'Site Supervisor', 'Manager', 'Talent Acquisition Executive', 'HIRING FOR BPO - VOICE, CHAT', 'Business Development Associate', 'Talent Acquisition & Employment Specialist', 'Executives', 'HR Recruiter / Sr. Recruiter or HR Consultant', 'Talent Acquisition Executive', 'Lead Manager, Client Service', 'Cyber Security intern', 'Recruiter', 'Manager', 'Finance Intern', 'Part Time Income-Online', 'Web Development Intern', 'cyber security Intern', 'Manager- Investor Relations', 'B and F Talent', 'Software Testing & Documentation Internship in Chennai at Clocktos Infotech', 'Business Development Associate', 'Professor/ Associate /Assistant', 'Technical Lead', 'Sales Executive-WFH-upto 3LPA-thiruvananthapuram', 'Business Development Associate', 'Program Associate - Placements', 'Business Development Associate', 'Human Resources (HR) Internship in Gurgaon, Delhi at TNC Aviation', 'Work from Anywhere']\n",
      "['Johnson Controls', 'Pixar Technology', 'xQ', 'Johnson Controls', 'Catenon India', 'Y-Axis Overseas Careers', 'Hemophilia Federation (India)', 'Irdeto', 'PlanetSpark', 'actyv.ai®', 'BPM LLP', \"BYJU'S\", 'Dyson', 'Emerson', 'Aster DM Healthcare', 'Rocketlane', 'Jet Airways', 'PlanetSpark', 'Scaler', 'Technovert', 'OpenText', 'Jet Airways', 'MOKSHA', 'PeoplesHR', 'DIAGEO India', 'Robert Walters', 'LTIMindtree', 'HSBC', 'SquadStack', 'PwC India', 'Hidesign', 'Vestige Distributor', 'The Polymath School', 'IndiGo (InterGlobe Aviation Ltd)', 'Jet Airways', 'White Force Group', 'Flipspaces', 'Imaginators Try Going Beyond', \"BYJU'S\", 'Cerence Inc.', 'EXL', 'Tusthi Executive Access And Consultants', 'Medvarsity', 'BNY Mellon', 'Corizo', 'Beck & Pollitzer India', 'BNP Paribas', 'Corizo', 'Vestige Distributor', 'Corizo', 'Corizo', 'IndiGo (InterGlobe Aviation Ltd)', 'Aloft', 'Clocktos Infotech', \"BYJU'S\", 'Pimpri Chinchwad Education Trust', 'Infinite Computer Solutions', 'D Recruitment Company', \"BYJU'S\", 'Testbook', \"BYJU'S\", 'TNC AVIATION', 'Win23 Community']\n",
      "['Kalsi, Uttarakhand, India                  On-site', 'Surat, Gujarat, India                  On-site', 'Hyderabad, Telangana, India                  On-site', 'Kalsi, Uttarakhand, India                  On-site', 'Pune, Maharashtra, India                  On-site', 'Hyderabad, Telangana, India                  On-site', 'South West Delhi, Delhi, India', 'Delhi, Delhi, India                  Hybrid', 'Gurugram, Haryana, India                  On-site', 'Bengaluru, Karnataka, India                  On-site', 'Bangalore Urban, Karnataka, India                  Hybrid', 'Greater Bengaluru Area                  On-site', 'Bangalore Rural, Karnataka, India                  On-site', 'Pune, Maharashtra, India                  On-site', 'Bengaluru, Karnataka, India                  On-site', 'Chennai, Tamil Nadu, India                  On-site', 'Vijayawada, Andhra Pradesh, India                  On-site', 'Gurugram, Haryana, India                  On-site', 'Bengaluru, Karnataka, India                  On-site', 'Hyderabad, Telangana, India                  On-site', 'Bengaluru, Karnataka, India                  On-site', 'Vijayawada, Andhra Pradesh, India                  On-site', 'Noida, Uttar Pradesh, India                  On-site', 'Mumbai, Maharashtra, India                  On-site', 'Pauri, Uttarakhand, India                  On-site', 'Chennai, Tamil Nadu, India                  On-site', 'Chennai, Tamil Nadu, India', 'Bengaluru, Karnataka, India                  Hybrid', 'Noida, Uttar Pradesh, India                  On-site', 'Mumbai, Maharashtra, India                  On-site', 'Puducherry, Puducherry, India                  On-site', 'Coimbatore, Tamil Nadu, India                  Remote', 'Bhiwandi, Maharashtra, India                  On-site', 'Gurgaon, Haryana, India                  On-site', 'Pune, Maharashtra, India                  On-site', 'Bengaluru, Karnataka, India                  On-site', 'Mumbai, Maharashtra, India                  On-site', 'Noida, Uttar Pradesh, India                  On-site', 'Bengaluru, Karnataka, India                  On-site', 'Pune, Maharashtra, India                  On-site', 'Noida, Uttar Pradesh, India                  On-site', 'Ghaziabad, Uttar Pradesh, India                  On-site', 'Hyderabad, Telangana, India                  On-site', 'Pune, Maharashtra, India                  On-site', 'India                  Remote', 'Pune, Maharashtra, India                  On-site', 'Chennai, Tamil Nadu, India                  On-site', 'India                  Remote', 'Chennai, Tamil Nadu, India                  Remote', 'India                  Remote', 'India                  Remote', 'Gurgaon, Haryana, India                  On-site', 'Bengaluru, Karnataka, India                  Hybrid', 'Chennai, Tamil Nadu, India                  On-site', 'India                  Remote', 'Pune/Pimpri-Chinchwad Area                  On-site', 'Visakhapatnam, Andhra Pradesh, India                  On-site', 'Thiruvananthapuram, Kerala, India                  On-site', 'Bengaluru, Karnataka, India                  On-site', 'Navi Mumbai, Maharashtra, India', 'India                  Remote', 'Delhi, Delhi, India                  On-site', 'Jhansi, Uttar Pradesh, India                  Remote']\n"
     ]
    }
   ],
   "source": [
    "job_sr=\"https://www.linkedin.com/jobs/search/?currentJobId=3370996088&keywords=jobs&start=200\"\n",
    "driver.get(job_sr)\n",
    "\n",
    "src= driver.page_source\n",
    "soup=BeautifulSoup(src,'lxml')\n",
    "intro=soup.find_all('a',{'class':\"job-card-list__title\"})\n",
    "for title in intro:\n",
    "    job_titles.append(title.text.strip())\n",
    "print(job_titles)\n",
    "company_name_html=soup.find_all('a',{'class':'job-card-container__company-name'})\n",
    "\n",
    "for name in company_name_html:\n",
    "    company_name.append(name.text.strip())\n",
    "print(company_name)\n",
    "import re\n",
    "location_html=soup.find_all('ul',{'class':\"job-card-container__metadata-wrapper\"})\n",
    "\n",
    "for loc in location_html:\n",
    "    res=re.sub(\"\\n\\n+\",'',loc.text.strip())\n",
    "    location_list.append(res)\n",
    "print(location_list)"
   ]
  },
  {
   "cell_type": "code",
   "execution_count": 36,
   "id": "e62614a9",
   "metadata": {},
   "outputs": [
    {
     "name": "stdout",
     "output_type": "stream",
     "text": [
      "['Talent Acquisition Partner (m/w/d)', 'Human Resources Executive', 'Academic Excellence Manager', 'Talent Acquisition Partner (m/w/d)', 'Talent Acquisition Head', 'US Education Advisor', 'Resource Development Manager', 'Talent Acquisition Specialist', 'Business Development Associate', 'Lead - Talent Acquisition', 'HR Assistant (Talent Acquisition Recruiter)', 'Business Development Associate', 'Senior Talent acquisition Partner', 'Associate Talent Acquisition', 'Deputy Manager Talent Acquisition', 'Talent Acquisition Specialist', 'UI Engineer Fresher', 'Business Development Associate', 'Business Development Associate - US Sales', 'Talent Acquisition Specialist', 'Sr. Talent Acquisition Advisor', 'Ground Staff', 'Recruiter', 'DGM HR Talent Acquisition cum opreation', 'Executive - Blending', 'Direct Recruiter (Singapore Banking Recruiter)', 'Associate Consultant', 'Manager', 'Talent Acquisition Specialist', 'Senior Associate - Mumbai Shivaji Park - Technology Consulting', 'Content Creator', 'Part Time Income Opportunity - Online', 'Talent Acquisition Manager', 'Assistant Manager - Human Resources (C&B and HR MIS)', 'Site Supervisor', 'Manager', 'Talent Acquisition Executive', 'HIRING FOR BPO - VOICE, CHAT', 'Business Development Associate', 'Talent Acquisition & Employment Specialist', 'Executives', 'HR Recruiter / Sr. Recruiter or HR Consultant', 'Talent Acquisition Executive', 'Lead Manager, Client Service', 'Cyber Security intern', 'Recruiter', 'Manager', 'Finance Intern', 'Part Time Income-Online', 'Web Development Intern', 'cyber security Intern', 'Manager- Investor Relations', 'B and F Talent', 'Software Testing & Documentation Internship in Chennai at Clocktos Infotech', 'Business Development Associate', 'Professor/ Associate /Assistant', 'Technical Lead', 'Sales Executive-WFH-upto 3LPA-thiruvananthapuram', 'Business Development Associate', 'Program Associate - Placements', 'Business Development Associate', 'Human Resources (HR) Internship in Gurgaon, Delhi at TNC Aviation', 'Work from Anywhere', 'Business Development Associate', 'Package Consultant: SuccessFactors Talent Mgmt', 'Sales Executive || Field Sales || Delhi NCR || 0-3 yr of Experience || B2B Sales', 'Executives', 'Technical Lead', 'Executives', 'Executives']\n",
      "['Johnson Controls', 'Pixar Technology', 'xQ', 'Johnson Controls', 'Catenon India', 'Y-Axis Overseas Careers', 'Hemophilia Federation (India)', 'Irdeto', 'PlanetSpark', 'actyv.ai®', 'BPM LLP', \"BYJU'S\", 'Dyson', 'Emerson', 'Aster DM Healthcare', 'Rocketlane', 'Jet Airways', 'PlanetSpark', 'Scaler', 'Technovert', 'OpenText', 'Jet Airways', 'MOKSHA', 'PeoplesHR', 'DIAGEO India', 'Robert Walters', 'LTIMindtree', 'HSBC', 'SquadStack', 'PwC India', 'Hidesign', 'Vestige Distributor', 'The Polymath School', 'IndiGo (InterGlobe Aviation Ltd)', 'Jet Airways', 'White Force Group', 'Flipspaces', 'Imaginators Try Going Beyond', \"BYJU'S\", 'Cerence Inc.', 'EXL', 'Tusthi Executive Access And Consultants', 'Medvarsity', 'BNY Mellon', 'Corizo', 'Beck & Pollitzer India', 'BNP Paribas', 'Corizo', 'Vestige Distributor', 'Corizo', 'Corizo', 'IndiGo (InterGlobe Aviation Ltd)', 'Aloft', 'Clocktos Infotech', \"BYJU'S\", 'Pimpri Chinchwad Education Trust', 'Infinite Computer Solutions', 'D Recruitment Company', \"BYJU'S\", 'Testbook', \"BYJU'S\", 'TNC AVIATION', 'Win23 Community', \"BYJU'S\", 'IBM', 'Justdial', 'EXL', 'Infinite Computer Solutions', 'EXL', 'EXL']\n",
      "['Kalsi, Uttarakhand, India                  On-site', 'Surat, Gujarat, India                  On-site', 'Hyderabad, Telangana, India                  On-site', 'Kalsi, Uttarakhand, India                  On-site', 'Pune, Maharashtra, India                  On-site', 'Hyderabad, Telangana, India                  On-site', 'South West Delhi, Delhi, India', 'Delhi, Delhi, India                  Hybrid', 'Gurugram, Haryana, India                  On-site', 'Bengaluru, Karnataka, India                  On-site', 'Bangalore Urban, Karnataka, India                  Hybrid', 'Greater Bengaluru Area                  On-site', 'Bangalore Rural, Karnataka, India                  On-site', 'Pune, Maharashtra, India                  On-site', 'Bengaluru, Karnataka, India                  On-site', 'Chennai, Tamil Nadu, India                  On-site', 'Vijayawada, Andhra Pradesh, India                  On-site', 'Gurugram, Haryana, India                  On-site', 'Bengaluru, Karnataka, India                  On-site', 'Hyderabad, Telangana, India                  On-site', 'Bengaluru, Karnataka, India                  On-site', 'Vijayawada, Andhra Pradesh, India                  On-site', 'Noida, Uttar Pradesh, India                  On-site', 'Mumbai, Maharashtra, India                  On-site', 'Pauri, Uttarakhand, India                  On-site', 'Chennai, Tamil Nadu, India                  On-site', 'Chennai, Tamil Nadu, India', 'Bengaluru, Karnataka, India                  Hybrid', 'Noida, Uttar Pradesh, India                  On-site', 'Mumbai, Maharashtra, India                  On-site', 'Puducherry, Puducherry, India                  On-site', 'Coimbatore, Tamil Nadu, India                  Remote', 'Bhiwandi, Maharashtra, India                  On-site', 'Gurgaon, Haryana, India                  On-site', 'Pune, Maharashtra, India                  On-site', 'Bengaluru, Karnataka, India                  On-site', 'Mumbai, Maharashtra, India                  On-site', 'Noida, Uttar Pradesh, India                  On-site', 'Bengaluru, Karnataka, India                  On-site', 'Pune, Maharashtra, India                  On-site', 'Noida, Uttar Pradesh, India                  On-site', 'Ghaziabad, Uttar Pradesh, India                  On-site', 'Hyderabad, Telangana, India                  On-site', 'Pune, Maharashtra, India                  On-site', 'India                  Remote', 'Pune, Maharashtra, India                  On-site', 'Chennai, Tamil Nadu, India                  On-site', 'India                  Remote', 'Chennai, Tamil Nadu, India                  Remote', 'India                  Remote', 'India                  Remote', 'Gurgaon, Haryana, India                  On-site', 'Bengaluru, Karnataka, India                  Hybrid', 'Chennai, Tamil Nadu, India                  On-site', 'India                  Remote', 'Pune/Pimpri-Chinchwad Area                  On-site', 'Visakhapatnam, Andhra Pradesh, India                  On-site', 'Thiruvananthapuram, Kerala, India                  On-site', 'Bengaluru, Karnataka, India                  On-site', 'Navi Mumbai, Maharashtra, India', 'India                  Remote', 'Delhi, Delhi, India                  On-site', 'Jhansi, Uttar Pradesh, India                  Remote', 'Bengaluru, Karnataka, India                  On-site', 'Bengaluru, Karnataka, India                  On-site', 'New Delhi, Delhi, India                  On-site', 'Bengaluru, Karnataka, India                  On-site', 'Bengaluru East, Karnataka, India                  On-site', 'Bengaluru, Karnataka, India                  On-site', 'Bengaluru, Karnataka, India                  On-site']\n"
     ]
    }
   ],
   "source": [
    "job_sr=\"https://www.linkedin.com/jobs/search/?currentJobId=3370996088&keywords=jobs&start=225\"\n",
    "driver.get(job_sr)\n",
    "\n",
    "src= driver.page_source\n",
    "soup=BeautifulSoup(src,'lxml')\n",
    "intro=soup.find_all('a',{'class':\"job-card-list__title\"})\n",
    "for title in intro:\n",
    "    job_titles.append(title.text.strip())\n",
    "print(job_titles)\n",
    "company_name_html=soup.find_all('a',{'class':'job-card-container__company-name'})\n",
    "\n",
    "for name in company_name_html:\n",
    "    company_name.append(name.text.strip())\n",
    "print(company_name)\n",
    "import re\n",
    "location_html=soup.find_all('ul',{'class':\"job-card-container__metadata-wrapper\"})\n",
    "\n",
    "for loc in location_html:\n",
    "    res=re.sub(\"\\n\\n+\",'',loc.text.strip())\n",
    "    location_list.append(res)\n",
    "print(location_list)"
   ]
  },
  {
   "cell_type": "code",
   "execution_count": 37,
   "id": "4792cc25",
   "metadata": {},
   "outputs": [
    {
     "name": "stdout",
     "output_type": "stream",
     "text": [
      "['Talent Acquisition Partner (m/w/d)', 'Human Resources Executive', 'Academic Excellence Manager', 'Talent Acquisition Partner (m/w/d)', 'Talent Acquisition Head', 'US Education Advisor', 'Resource Development Manager', 'Talent Acquisition Specialist', 'Business Development Associate', 'Lead - Talent Acquisition', 'HR Assistant (Talent Acquisition Recruiter)', 'Business Development Associate', 'Senior Talent acquisition Partner', 'Associate Talent Acquisition', 'Deputy Manager Talent Acquisition', 'Talent Acquisition Specialist', 'UI Engineer Fresher', 'Business Development Associate', 'Business Development Associate - US Sales', 'Talent Acquisition Specialist', 'Sr. Talent Acquisition Advisor', 'Ground Staff', 'Recruiter', 'DGM HR Talent Acquisition cum opreation', 'Executive - Blending', 'Direct Recruiter (Singapore Banking Recruiter)', 'Associate Consultant', 'Manager', 'Talent Acquisition Specialist', 'Senior Associate - Mumbai Shivaji Park - Technology Consulting', 'Content Creator', 'Part Time Income Opportunity - Online', 'Talent Acquisition Manager', 'Assistant Manager - Human Resources (C&B and HR MIS)', 'Site Supervisor', 'Manager', 'Talent Acquisition Executive', 'HIRING FOR BPO - VOICE, CHAT', 'Business Development Associate', 'Talent Acquisition & Employment Specialist', 'Executives', 'HR Recruiter / Sr. Recruiter or HR Consultant', 'Talent Acquisition Executive', 'Lead Manager, Client Service', 'Cyber Security intern', 'Recruiter', 'Manager', 'Finance Intern', 'Part Time Income-Online', 'Web Development Intern', 'cyber security Intern', 'Manager- Investor Relations', 'B and F Talent', 'Software Testing & Documentation Internship in Chennai at Clocktos Infotech', 'Business Development Associate', 'Professor/ Associate /Assistant', 'Technical Lead', 'Sales Executive-WFH-upto 3LPA-thiruvananthapuram', 'Business Development Associate', 'Program Associate - Placements', 'Business Development Associate', 'Human Resources (HR) Internship in Gurgaon, Delhi at TNC Aviation', 'Work from Anywhere', 'Business Development Associate', 'Package Consultant: SuccessFactors Talent Mgmt', 'Sales Executive || Field Sales || Delhi NCR || 0-3 yr of Experience || B2B Sales', 'Executives', 'Technical Lead', 'Executives', 'Executives', 'Executives', 'Urgent Vacancy for Airport Ground Staff Jobs', 'Digital Marketing Intern', 'Relationship Manager Executive-Sales  (Looking for only freshers )', 'Business Development Associate', 'Vendor Consultant', 'Team Manager - HR Operations Americas']\n",
      "['Johnson Controls', 'Pixar Technology', 'xQ', 'Johnson Controls', 'Catenon India', 'Y-Axis Overseas Careers', 'Hemophilia Federation (India)', 'Irdeto', 'PlanetSpark', 'actyv.ai®', 'BPM LLP', \"BYJU'S\", 'Dyson', 'Emerson', 'Aster DM Healthcare', 'Rocketlane', 'Jet Airways', 'PlanetSpark', 'Scaler', 'Technovert', 'OpenText', 'Jet Airways', 'MOKSHA', 'PeoplesHR', 'DIAGEO India', 'Robert Walters', 'LTIMindtree', 'HSBC', 'SquadStack', 'PwC India', 'Hidesign', 'Vestige Distributor', 'The Polymath School', 'IndiGo (InterGlobe Aviation Ltd)', 'Jet Airways', 'White Force Group', 'Flipspaces', 'Imaginators Try Going Beyond', \"BYJU'S\", 'Cerence Inc.', 'EXL', 'Tusthi Executive Access And Consultants', 'Medvarsity', 'BNY Mellon', 'Corizo', 'Beck & Pollitzer India', 'BNP Paribas', 'Corizo', 'Vestige Distributor', 'Corizo', 'Corizo', 'IndiGo (InterGlobe Aviation Ltd)', 'Aloft', 'Clocktos Infotech', \"BYJU'S\", 'Pimpri Chinchwad Education Trust', 'Infinite Computer Solutions', 'D Recruitment Company', \"BYJU'S\", 'Testbook', \"BYJU'S\", 'TNC AVIATION', 'Win23 Community', \"BYJU'S\", 'IBM', 'Justdial', 'EXL', 'Infinite Computer Solutions', 'EXL', 'EXL', 'EXL', 'Airbov Solutions', 'Corizo', 'NoBrokerHood', 'BYJU’S Learning', 'Flipkart', 'Barclays']\n",
      "['Kalsi, Uttarakhand, India                  On-site', 'Surat, Gujarat, India                  On-site', 'Hyderabad, Telangana, India                  On-site', 'Kalsi, Uttarakhand, India                  On-site', 'Pune, Maharashtra, India                  On-site', 'Hyderabad, Telangana, India                  On-site', 'South West Delhi, Delhi, India', 'Delhi, Delhi, India                  Hybrid', 'Gurugram, Haryana, India                  On-site', 'Bengaluru, Karnataka, India                  On-site', 'Bangalore Urban, Karnataka, India                  Hybrid', 'Greater Bengaluru Area                  On-site', 'Bangalore Rural, Karnataka, India                  On-site', 'Pune, Maharashtra, India                  On-site', 'Bengaluru, Karnataka, India                  On-site', 'Chennai, Tamil Nadu, India                  On-site', 'Vijayawada, Andhra Pradesh, India                  On-site', 'Gurugram, Haryana, India                  On-site', 'Bengaluru, Karnataka, India                  On-site', 'Hyderabad, Telangana, India                  On-site', 'Bengaluru, Karnataka, India                  On-site', 'Vijayawada, Andhra Pradesh, India                  On-site', 'Noida, Uttar Pradesh, India                  On-site', 'Mumbai, Maharashtra, India                  On-site', 'Pauri, Uttarakhand, India                  On-site', 'Chennai, Tamil Nadu, India                  On-site', 'Chennai, Tamil Nadu, India', 'Bengaluru, Karnataka, India                  Hybrid', 'Noida, Uttar Pradesh, India                  On-site', 'Mumbai, Maharashtra, India                  On-site', 'Puducherry, Puducherry, India                  On-site', 'Coimbatore, Tamil Nadu, India                  Remote', 'Bhiwandi, Maharashtra, India                  On-site', 'Gurgaon, Haryana, India                  On-site', 'Pune, Maharashtra, India                  On-site', 'Bengaluru, Karnataka, India                  On-site', 'Mumbai, Maharashtra, India                  On-site', 'Noida, Uttar Pradesh, India                  On-site', 'Bengaluru, Karnataka, India                  On-site', 'Pune, Maharashtra, India                  On-site', 'Noida, Uttar Pradesh, India                  On-site', 'Ghaziabad, Uttar Pradesh, India                  On-site', 'Hyderabad, Telangana, India                  On-site', 'Pune, Maharashtra, India                  On-site', 'India                  Remote', 'Pune, Maharashtra, India                  On-site', 'Chennai, Tamil Nadu, India                  On-site', 'India                  Remote', 'Chennai, Tamil Nadu, India                  Remote', 'India                  Remote', 'India                  Remote', 'Gurgaon, Haryana, India                  On-site', 'Bengaluru, Karnataka, India                  Hybrid', 'Chennai, Tamil Nadu, India                  On-site', 'India                  Remote', 'Pune/Pimpri-Chinchwad Area                  On-site', 'Visakhapatnam, Andhra Pradesh, India                  On-site', 'Thiruvananthapuram, Kerala, India                  On-site', 'Bengaluru, Karnataka, India                  On-site', 'Navi Mumbai, Maharashtra, India', 'India                  Remote', 'Delhi, Delhi, India                  On-site', 'Jhansi, Uttar Pradesh, India                  Remote', 'Bengaluru, Karnataka, India                  On-site', 'Bengaluru, Karnataka, India                  On-site', 'New Delhi, Delhi, India                  On-site', 'Bengaluru, Karnataka, India                  On-site', 'Bengaluru East, Karnataka, India                  On-site', 'Bengaluru, Karnataka, India                  On-site', 'Bengaluru, Karnataka, India                  On-site', 'Noida, Uttar Pradesh, India                  On-site', 'Nagpur, Maharashtra, India                  On-site', 'India                  Remote', 'Bengaluru, Karnataka, India                  On-site', 'Chennai, Tamil Nadu, India                  On-site', 'Manesar, Haryana, India                  On-site', 'Chennai, Tamil Nadu, India                  On-site']\n"
     ]
    }
   ],
   "source": [
    "job_sr=\"https://www.linkedin.com/jobs/search/?currentJobId=3370996088&keywords=jobs&start=250\"\n",
    "driver.get(job_sr)\n",
    "\n",
    "src= driver.page_source\n",
    "soup=BeautifulSoup(src,'lxml')\n",
    "intro=soup.find_all('a',{'class':\"job-card-list__title\"})\n",
    "for title in intro:\n",
    "    job_titles.append(title.text.strip())\n",
    "print(job_titles)\n",
    "company_name_html=soup.find_all('a',{'class':'job-card-container__company-name'})\n",
    "\n",
    "for name in company_name_html:\n",
    "    company_name.append(name.text.strip())\n",
    "print(company_name)\n",
    "import re\n",
    "location_html=soup.find_all('ul',{'class':\"job-card-container__metadata-wrapper\"})\n",
    "\n",
    "for loc in location_html:\n",
    "    res=re.sub(\"\\n\\n+\",'',loc.text.strip())\n",
    "    location_list.append(res)\n",
    "print(location_list)"
   ]
  },
  {
   "cell_type": "code",
   "execution_count": 38,
   "id": "8a7da802",
   "metadata": {},
   "outputs": [
    {
     "name": "stdout",
     "output_type": "stream",
     "text": [
      "['Talent Acquisition Partner (m/w/d)', 'Human Resources Executive', 'Academic Excellence Manager', 'Talent Acquisition Partner (m/w/d)', 'Talent Acquisition Head', 'US Education Advisor', 'Resource Development Manager', 'Talent Acquisition Specialist', 'Business Development Associate', 'Lead - Talent Acquisition', 'HR Assistant (Talent Acquisition Recruiter)', 'Business Development Associate', 'Senior Talent acquisition Partner', 'Associate Talent Acquisition', 'Deputy Manager Talent Acquisition', 'Talent Acquisition Specialist', 'UI Engineer Fresher', 'Business Development Associate', 'Business Development Associate - US Sales', 'Talent Acquisition Specialist', 'Sr. Talent Acquisition Advisor', 'Ground Staff', 'Recruiter', 'DGM HR Talent Acquisition cum opreation', 'Executive - Blending', 'Direct Recruiter (Singapore Banking Recruiter)', 'Associate Consultant', 'Manager', 'Talent Acquisition Specialist', 'Senior Associate - Mumbai Shivaji Park - Technology Consulting', 'Content Creator', 'Part Time Income Opportunity - Online', 'Talent Acquisition Manager', 'Assistant Manager - Human Resources (C&B and HR MIS)', 'Site Supervisor', 'Manager', 'Talent Acquisition Executive', 'HIRING FOR BPO - VOICE, CHAT', 'Business Development Associate', 'Talent Acquisition & Employment Specialist', 'Executives', 'HR Recruiter / Sr. Recruiter or HR Consultant', 'Talent Acquisition Executive', 'Lead Manager, Client Service', 'Cyber Security intern', 'Recruiter', 'Manager', 'Finance Intern', 'Part Time Income-Online', 'Web Development Intern', 'cyber security Intern', 'Manager- Investor Relations', 'B and F Talent', 'Software Testing & Documentation Internship in Chennai at Clocktos Infotech', 'Business Development Associate', 'Professor/ Associate /Assistant', 'Technical Lead', 'Sales Executive-WFH-upto 3LPA-thiruvananthapuram', 'Business Development Associate', 'Program Associate - Placements', 'Business Development Associate', 'Human Resources (HR) Internship in Gurgaon, Delhi at TNC Aviation', 'Work from Anywhere', 'Business Development Associate', 'Package Consultant: SuccessFactors Talent Mgmt', 'Sales Executive || Field Sales || Delhi NCR || 0-3 yr of Experience || B2B Sales', 'Executives', 'Technical Lead', 'Executives', 'Executives', 'Executives', 'Urgent Vacancy for Airport Ground Staff Jobs', 'Digital Marketing Intern', 'Relationship Manager Executive-Sales  (Looking for only freshers )', 'Business Development Associate', 'Vendor Consultant', 'Team Manager - HR Operations Americas', 'Web Developer Intern', 'Technical Recruiter', 'Recruiter / Sr Recruiter/ Lead Recruiter (Mumbai location)-  IT , or non IT, or/and  BFSI Recruiter', 'Executives', 'Business Development Manager-Recruitment Company', 'Excel Macros', 'Technical Lead']\n",
      "['Johnson Controls', 'Pixar Technology', 'xQ', 'Johnson Controls', 'Catenon India', 'Y-Axis Overseas Careers', 'Hemophilia Federation (India)', 'Irdeto', 'PlanetSpark', 'actyv.ai®', 'BPM LLP', \"BYJU'S\", 'Dyson', 'Emerson', 'Aster DM Healthcare', 'Rocketlane', 'Jet Airways', 'PlanetSpark', 'Scaler', 'Technovert', 'OpenText', 'Jet Airways', 'MOKSHA', 'PeoplesHR', 'DIAGEO India', 'Robert Walters', 'LTIMindtree', 'HSBC', 'SquadStack', 'PwC India', 'Hidesign', 'Vestige Distributor', 'The Polymath School', 'IndiGo (InterGlobe Aviation Ltd)', 'Jet Airways', 'White Force Group', 'Flipspaces', 'Imaginators Try Going Beyond', \"BYJU'S\", 'Cerence Inc.', 'EXL', 'Tusthi Executive Access And Consultants', 'Medvarsity', 'BNY Mellon', 'Corizo', 'Beck & Pollitzer India', 'BNP Paribas', 'Corizo', 'Vestige Distributor', 'Corizo', 'Corizo', 'IndiGo (InterGlobe Aviation Ltd)', 'Aloft', 'Clocktos Infotech', \"BYJU'S\", 'Pimpri Chinchwad Education Trust', 'Infinite Computer Solutions', 'D Recruitment Company', \"BYJU'S\", 'Testbook', \"BYJU'S\", 'TNC AVIATION', 'Win23 Community', \"BYJU'S\", 'IBM', 'Justdial', 'EXL', 'Infinite Computer Solutions', 'EXL', 'EXL', 'EXL', 'Airbov Solutions', 'Corizo', 'NoBrokerHood', 'BYJU’S Learning', 'Flipkart', 'Barclays', 'Yougetplaced', 'Twenty20 Systems', 'Success and Beyond HR Partners', 'EXL', 'Matrix HR Technologies', 'Tata Consultancy Services', 'Infinite Computer Solutions']\n",
      "['Kalsi, Uttarakhand, India                  On-site', 'Surat, Gujarat, India                  On-site', 'Hyderabad, Telangana, India                  On-site', 'Kalsi, Uttarakhand, India                  On-site', 'Pune, Maharashtra, India                  On-site', 'Hyderabad, Telangana, India                  On-site', 'South West Delhi, Delhi, India', 'Delhi, Delhi, India                  Hybrid', 'Gurugram, Haryana, India                  On-site', 'Bengaluru, Karnataka, India                  On-site', 'Bangalore Urban, Karnataka, India                  Hybrid', 'Greater Bengaluru Area                  On-site', 'Bangalore Rural, Karnataka, India                  On-site', 'Pune, Maharashtra, India                  On-site', 'Bengaluru, Karnataka, India                  On-site', 'Chennai, Tamil Nadu, India                  On-site', 'Vijayawada, Andhra Pradesh, India                  On-site', 'Gurugram, Haryana, India                  On-site', 'Bengaluru, Karnataka, India                  On-site', 'Hyderabad, Telangana, India                  On-site', 'Bengaluru, Karnataka, India                  On-site', 'Vijayawada, Andhra Pradesh, India                  On-site', 'Noida, Uttar Pradesh, India                  On-site', 'Mumbai, Maharashtra, India                  On-site', 'Pauri, Uttarakhand, India                  On-site', 'Chennai, Tamil Nadu, India                  On-site', 'Chennai, Tamil Nadu, India', 'Bengaluru, Karnataka, India                  Hybrid', 'Noida, Uttar Pradesh, India                  On-site', 'Mumbai, Maharashtra, India                  On-site', 'Puducherry, Puducherry, India                  On-site', 'Coimbatore, Tamil Nadu, India                  Remote', 'Bhiwandi, Maharashtra, India                  On-site', 'Gurgaon, Haryana, India                  On-site', 'Pune, Maharashtra, India                  On-site', 'Bengaluru, Karnataka, India                  On-site', 'Mumbai, Maharashtra, India                  On-site', 'Noida, Uttar Pradesh, India                  On-site', 'Bengaluru, Karnataka, India                  On-site', 'Pune, Maharashtra, India                  On-site', 'Noida, Uttar Pradesh, India                  On-site', 'Ghaziabad, Uttar Pradesh, India                  On-site', 'Hyderabad, Telangana, India                  On-site', 'Pune, Maharashtra, India                  On-site', 'India                  Remote', 'Pune, Maharashtra, India                  On-site', 'Chennai, Tamil Nadu, India                  On-site', 'India                  Remote', 'Chennai, Tamil Nadu, India                  Remote', 'India                  Remote', 'India                  Remote', 'Gurgaon, Haryana, India                  On-site', 'Bengaluru, Karnataka, India                  Hybrid', 'Chennai, Tamil Nadu, India                  On-site', 'India                  Remote', 'Pune/Pimpri-Chinchwad Area                  On-site', 'Visakhapatnam, Andhra Pradesh, India                  On-site', 'Thiruvananthapuram, Kerala, India                  On-site', 'Bengaluru, Karnataka, India                  On-site', 'Navi Mumbai, Maharashtra, India', 'India                  Remote', 'Delhi, Delhi, India                  On-site', 'Jhansi, Uttar Pradesh, India                  Remote', 'Bengaluru, Karnataka, India                  On-site', 'Bengaluru, Karnataka, India                  On-site', 'New Delhi, Delhi, India                  On-site', 'Bengaluru, Karnataka, India                  On-site', 'Bengaluru East, Karnataka, India                  On-site', 'Bengaluru, Karnataka, India                  On-site', 'Bengaluru, Karnataka, India                  On-site', 'Noida, Uttar Pradesh, India                  On-site', 'Nagpur, Maharashtra, India                  On-site', 'India                  Remote', 'Bengaluru, Karnataka, India                  On-site', 'Chennai, Tamil Nadu, India                  On-site', 'Manesar, Haryana, India                  On-site', 'Chennai, Tamil Nadu, India                  On-site', 'India                  Remote', 'Bengaluru, Karnataka, India                  On-site', 'Goregaon, Maharashtra, India                  On-site', 'Pune, Maharashtra, India                  On-site', 'Bengaluru, Karnataka, India                  On-site', 'Bengaluru, Karnataka, India                  On-site', 'Bengaluru East, Karnataka, India                  On-site']\n"
     ]
    }
   ],
   "source": [
    "job_sr=\"https://www.linkedin.com/jobs/search/?currentJobId=3370996088&keywords=jobs&start=275\"\n",
    "driver.get(job_sr)\n",
    "\n",
    "src= driver.page_source\n",
    "soup=BeautifulSoup(src,'lxml')\n",
    "intro=soup.find_all('a',{'class':\"job-card-list__title\"})\n",
    "for title in intro:\n",
    "    job_titles.append(title.text.strip())\n",
    "print(job_titles)\n",
    "company_name_html=soup.find_all('a',{'class':'job-card-container__company-name'})\n",
    "\n",
    "for name in company_name_html:\n",
    "    company_name.append(name.text.strip())\n",
    "print(company_name)\n",
    "import re\n",
    "location_html=soup.find_all('ul',{'class':\"job-card-container__metadata-wrapper\"})\n",
    "\n",
    "for loc in location_html:\n",
    "    res=re.sub(\"\\n\\n+\",'',loc.text.strip())\n",
    "    location_list.append(res)\n",
    "print(location_list)"
   ]
  },
  {
   "cell_type": "code",
   "execution_count": 39,
   "id": "6d21dca9",
   "metadata": {},
   "outputs": [
    {
     "name": "stdout",
     "output_type": "stream",
     "text": [
      "['Talent Acquisition Partner (m/w/d)', 'Human Resources Executive', 'Academic Excellence Manager', 'Talent Acquisition Partner (m/w/d)', 'Talent Acquisition Head', 'US Education Advisor', 'Resource Development Manager', 'Talent Acquisition Specialist', 'Business Development Associate', 'Lead - Talent Acquisition', 'HR Assistant (Talent Acquisition Recruiter)', 'Business Development Associate', 'Senior Talent acquisition Partner', 'Associate Talent Acquisition', 'Deputy Manager Talent Acquisition', 'Talent Acquisition Specialist', 'UI Engineer Fresher', 'Business Development Associate', 'Business Development Associate - US Sales', 'Talent Acquisition Specialist', 'Sr. Talent Acquisition Advisor', 'Ground Staff', 'Recruiter', 'DGM HR Talent Acquisition cum opreation', 'Executive - Blending', 'Direct Recruiter (Singapore Banking Recruiter)', 'Associate Consultant', 'Manager', 'Talent Acquisition Specialist', 'Senior Associate - Mumbai Shivaji Park - Technology Consulting', 'Content Creator', 'Part Time Income Opportunity - Online', 'Talent Acquisition Manager', 'Assistant Manager - Human Resources (C&B and HR MIS)', 'Site Supervisor', 'Manager', 'Talent Acquisition Executive', 'HIRING FOR BPO - VOICE, CHAT', 'Business Development Associate', 'Talent Acquisition & Employment Specialist', 'Executives', 'HR Recruiter / Sr. Recruiter or HR Consultant', 'Talent Acquisition Executive', 'Lead Manager, Client Service', 'Cyber Security intern', 'Recruiter', 'Manager', 'Finance Intern', 'Part Time Income-Online', 'Web Development Intern', 'cyber security Intern', 'Manager- Investor Relations', 'B and F Talent', 'Software Testing & Documentation Internship in Chennai at Clocktos Infotech', 'Business Development Associate', 'Professor/ Associate /Assistant', 'Technical Lead', 'Sales Executive-WFH-upto 3LPA-thiruvananthapuram', 'Business Development Associate', 'Program Associate - Placements', 'Business Development Associate', 'Human Resources (HR) Internship in Gurgaon, Delhi at TNC Aviation', 'Work from Anywhere', 'Business Development Associate', 'Package Consultant: SuccessFactors Talent Mgmt', 'Sales Executive || Field Sales || Delhi NCR || 0-3 yr of Experience || B2B Sales', 'Executives', 'Technical Lead', 'Executives', 'Executives', 'Executives', 'Urgent Vacancy for Airport Ground Staff Jobs', 'Digital Marketing Intern', 'Relationship Manager Executive-Sales  (Looking for only freshers )', 'Business Development Associate', 'Vendor Consultant', 'Team Manager - HR Operations Americas', 'Web Developer Intern', 'Technical Recruiter', 'Recruiter / Sr Recruiter/ Lead Recruiter (Mumbai location)-  IT , or non IT, or/and  BFSI Recruiter', 'Executives', 'Business Development Manager-Recruitment Company', 'Excel Macros', 'Technical Lead', 'Business Development Associate', 'Head of Vendor Oversight India', 'Associate/Senior Associate', 'Admissions Lead', 'Business Development Associate', 'Data Science Intern', 'Business Development Associate']\n",
      "['Johnson Controls', 'Pixar Technology', 'xQ', 'Johnson Controls', 'Catenon India', 'Y-Axis Overseas Careers', 'Hemophilia Federation (India)', 'Irdeto', 'PlanetSpark', 'actyv.ai®', 'BPM LLP', \"BYJU'S\", 'Dyson', 'Emerson', 'Aster DM Healthcare', 'Rocketlane', 'Jet Airways', 'PlanetSpark', 'Scaler', 'Technovert', 'OpenText', 'Jet Airways', 'MOKSHA', 'PeoplesHR', 'DIAGEO India', 'Robert Walters', 'LTIMindtree', 'HSBC', 'SquadStack', 'PwC India', 'Hidesign', 'Vestige Distributor', 'The Polymath School', 'IndiGo (InterGlobe Aviation Ltd)', 'Jet Airways', 'White Force Group', 'Flipspaces', 'Imaginators Try Going Beyond', \"BYJU'S\", 'Cerence Inc.', 'EXL', 'Tusthi Executive Access And Consultants', 'Medvarsity', 'BNY Mellon', 'Corizo', 'Beck & Pollitzer India', 'BNP Paribas', 'Corizo', 'Vestige Distributor', 'Corizo', 'Corizo', 'IndiGo (InterGlobe Aviation Ltd)', 'Aloft', 'Clocktos Infotech', \"BYJU'S\", 'Pimpri Chinchwad Education Trust', 'Infinite Computer Solutions', 'D Recruitment Company', \"BYJU'S\", 'Testbook', \"BYJU'S\", 'TNC AVIATION', 'Win23 Community', \"BYJU'S\", 'IBM', 'Justdial', 'EXL', 'Infinite Computer Solutions', 'EXL', 'EXL', 'EXL', 'Airbov Solutions', 'Corizo', 'NoBrokerHood', 'BYJU’S Learning', 'Flipkart', 'Barclays', 'Yougetplaced', 'Twenty20 Systems', 'Success and Beyond HR Partners', 'EXL', 'Matrix HR Technologies', 'Tata Consultancy Services', 'Infinite Computer Solutions', \"BYJU'S\", 'Barclays', 'BNP Paribas', \"Masters' Union\", 'Exotic Learning', 'Corizo', 'Exotic Learning']\n",
      "['Kalsi, Uttarakhand, India                  On-site', 'Surat, Gujarat, India                  On-site', 'Hyderabad, Telangana, India                  On-site', 'Kalsi, Uttarakhand, India                  On-site', 'Pune, Maharashtra, India                  On-site', 'Hyderabad, Telangana, India                  On-site', 'South West Delhi, Delhi, India', 'Delhi, Delhi, India                  Hybrid', 'Gurugram, Haryana, India                  On-site', 'Bengaluru, Karnataka, India                  On-site', 'Bangalore Urban, Karnataka, India                  Hybrid', 'Greater Bengaluru Area                  On-site', 'Bangalore Rural, Karnataka, India                  On-site', 'Pune, Maharashtra, India                  On-site', 'Bengaluru, Karnataka, India                  On-site', 'Chennai, Tamil Nadu, India                  On-site', 'Vijayawada, Andhra Pradesh, India                  On-site', 'Gurugram, Haryana, India                  On-site', 'Bengaluru, Karnataka, India                  On-site', 'Hyderabad, Telangana, India                  On-site', 'Bengaluru, Karnataka, India                  On-site', 'Vijayawada, Andhra Pradesh, India                  On-site', 'Noida, Uttar Pradesh, India                  On-site', 'Mumbai, Maharashtra, India                  On-site', 'Pauri, Uttarakhand, India                  On-site', 'Chennai, Tamil Nadu, India                  On-site', 'Chennai, Tamil Nadu, India', 'Bengaluru, Karnataka, India                  Hybrid', 'Noida, Uttar Pradesh, India                  On-site', 'Mumbai, Maharashtra, India                  On-site', 'Puducherry, Puducherry, India                  On-site', 'Coimbatore, Tamil Nadu, India                  Remote', 'Bhiwandi, Maharashtra, India                  On-site', 'Gurgaon, Haryana, India                  On-site', 'Pune, Maharashtra, India                  On-site', 'Bengaluru, Karnataka, India                  On-site', 'Mumbai, Maharashtra, India                  On-site', 'Noida, Uttar Pradesh, India                  On-site', 'Bengaluru, Karnataka, India                  On-site', 'Pune, Maharashtra, India                  On-site', 'Noida, Uttar Pradesh, India                  On-site', 'Ghaziabad, Uttar Pradesh, India                  On-site', 'Hyderabad, Telangana, India                  On-site', 'Pune, Maharashtra, India                  On-site', 'India                  Remote', 'Pune, Maharashtra, India                  On-site', 'Chennai, Tamil Nadu, India                  On-site', 'India                  Remote', 'Chennai, Tamil Nadu, India                  Remote', 'India                  Remote', 'India                  Remote', 'Gurgaon, Haryana, India                  On-site', 'Bengaluru, Karnataka, India                  Hybrid', 'Chennai, Tamil Nadu, India                  On-site', 'India                  Remote', 'Pune/Pimpri-Chinchwad Area                  On-site', 'Visakhapatnam, Andhra Pradesh, India                  On-site', 'Thiruvananthapuram, Kerala, India                  On-site', 'Bengaluru, Karnataka, India                  On-site', 'Navi Mumbai, Maharashtra, India', 'India                  Remote', 'Delhi, Delhi, India                  On-site', 'Jhansi, Uttar Pradesh, India                  Remote', 'Bengaluru, Karnataka, India                  On-site', 'Bengaluru, Karnataka, India                  On-site', 'New Delhi, Delhi, India                  On-site', 'Bengaluru, Karnataka, India                  On-site', 'Bengaluru East, Karnataka, India                  On-site', 'Bengaluru, Karnataka, India                  On-site', 'Bengaluru, Karnataka, India                  On-site', 'Noida, Uttar Pradesh, India                  On-site', 'Nagpur, Maharashtra, India                  On-site', 'India                  Remote', 'Bengaluru, Karnataka, India                  On-site', 'Chennai, Tamil Nadu, India                  On-site', 'Manesar, Haryana, India                  On-site', 'Chennai, Tamil Nadu, India                  On-site', 'India                  Remote', 'Bengaluru, Karnataka, India                  On-site', 'Goregaon, Maharashtra, India                  On-site', 'Pune, Maharashtra, India                  On-site', 'Bengaluru, Karnataka, India                  On-site', 'Bengaluru, Karnataka, India                  On-site', 'Bengaluru East, Karnataka, India                  On-site', 'Ahmedabad, Gujarat, India                  On-site', 'Pune, Maharashtra, India                  Hybrid', 'Mumbai, Maharashtra, India                  On-site', 'Gurugram, Haryana, India                  On-site', 'India                  Remote', 'India                  Remote', 'India                  Remote']\n"
     ]
    }
   ],
   "source": [
    "job_sr=\"https://www.linkedin.com/jobs/search/?currentJobId=3370996088&keywords=jobs&start=300\"\n",
    "driver.get(job_sr)\n",
    "\n",
    "src= driver.page_source\n",
    "soup=BeautifulSoup(src,'lxml')\n",
    "intro=soup.find_all('a',{'class':\"job-card-list__title\"})\n",
    "for title in intro:\n",
    "    job_titles.append(title.text.strip())\n",
    "print(job_titles)\n",
    "company_name_html=soup.find_all('a',{'class':'job-card-container__company-name'})\n",
    "\n",
    "for name in company_name_html:\n",
    "    company_name.append(name.text.strip())\n",
    "print(company_name)\n",
    "import re\n",
    "location_html=soup.find_all('ul',{'class':\"job-card-container__metadata-wrapper\"})\n",
    "\n",
    "for loc in location_html:\n",
    "    res=re.sub(\"\\n\\n+\",'',loc.text.strip())\n",
    "    location_list.append(res)\n",
    "print(location_list)"
   ]
  },
  {
   "cell_type": "code",
   "execution_count": null,
   "id": "8d76fdf3",
   "metadata": {},
   "outputs": [],
   "source": []
  }
 ],
 "metadata": {
  "kernelspec": {
   "display_name": "Python 3 (ipykernel)",
   "language": "python",
   "name": "python3"
  },
  "language_info": {
   "codemirror_mode": {
    "name": "ipython",
    "version": 3
   },
   "file_extension": ".py",
   "mimetype": "text/x-python",
   "name": "python",
   "nbconvert_exporter": "python",
   "pygments_lexer": "ipython3",
   "version": "3.9.12"
  }
 },
 "nbformat": 4,
 "nbformat_minor": 5
}
